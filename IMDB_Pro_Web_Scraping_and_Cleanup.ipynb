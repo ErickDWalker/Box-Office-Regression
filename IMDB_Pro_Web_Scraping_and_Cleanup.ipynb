{
 "cells": [
  {
   "cell_type": "code",
   "execution_count": 9,
   "metadata": {},
   "outputs": [],
   "source": [
    "from bs4 import BeautifulSoup\n",
    "import requests\n",
    "import re\n",
    "import pickle\n",
    "import pandas as pd"
   ]
  },
  {
   "cell_type": "markdown",
   "metadata": {},
   "source": [
    "### Declare IMDB home site variable and the IMDB root urls, to be used frequently in code"
   ]
  },
  {
   "cell_type": "code",
   "execution_count": null,
   "metadata": {},
   "outputs": [],
   "source": [
    "imdb_root = \"https://pro.imdb.com\"\n",
    "imdb_home_site = \"https://pro.imdb.com/boxoffice/year/world\"\n",
    "\n",
    "# Ensure first site responds: status_code = 200 indicates success\n",
    "# print(requests.get(imdb_home_site + str(min(year_range))).status_code)"
   ]
  },
  {
   "cell_type": "markdown",
   "metadata": {},
   "source": [
    "### Set variables to determine range of scraping from Box Office Mojo:\n",
    "1. Year range (exclusive of upper bound), and \n",
    "2. Minimum box office proceeds to limit search"
   ]
  },
  {
   "cell_type": "code",
   "execution_count": null,
   "metadata": {},
   "outputs": [],
   "source": [
    "year_range = range(2005,2020)\n",
    "world_box_min = 5000000"
   ]
  },
  {
   "cell_type": "markdown",
   "metadata": {},
   "source": [
    "### Function to grab features from the main title summary page on IMDB Pro:\n",
    "* Utilizes series of try, except statements. If feature doesn't exist on page set to (\"\")"
   ]
  },
  {
   "cell_type": "code",
   "execution_count": null,
   "metadata": {},
   "outputs": [],
   "source": [
    "def grab_title_summary_feats(title_summary_soup):\n",
    "    \"\"\"\n",
    "    Navigate to individual movie's Title Summary page and extract feature data\n",
    "    Input: BeautifulSoup object of individual movie's web page\n",
    "    Returns: list of individual movie's Title Summary data\n",
    "    \"\"\"\n",
    "    try:\n",
    "        budget = title_summary_soup.find(text=re.compile(\"Budget\")).findNext().text.strip()\n",
    "        budget = int(budget.replace(\",\",\"\").replace(\"$\",\"\").replace(\"\\n\",\"\"))\n",
    "    except:\n",
    "        budget = 0\n",
    "    \n",
    "    try:\n",
    "        release_date = title_summary_soup.find(text=re.compile(\"Release date\")).findNext().find(\"a\").text\n",
    "        release_date = dateutil.parser.parse(release_date)\n",
    "    except:\n",
    "        release_date = \"\"\n",
    "        \n",
    "    try:\n",
    "        rating = title_summary_soup.find(id=\"certificate\").text[:-1].strip()\n",
    "    except:\n",
    "        rating = \"\"    \n",
    "        \n",
    "    try:\n",
    "        # runtime formatted as \"x min\" on page, so split into list and grab first element to pull minutes\n",
    "        runtime = int(title_summary_soup.find(id=\"running_time\").text[:-1].split()[0])\n",
    "    except:\n",
    "        runtime = \"\"        \n",
    "      \n",
    "    try:\n",
    "        genres = title_summary_soup.find(id=\"genres\").text\n",
    "    except:\n",
    "        genres = \"\"\n",
    "        \n",
    "    try:\n",
    "        # Director often include \"\\n\" --- replace with blank spaces\n",
    "        director = title_summary_soup.find(text=re.compile(\" Director\")).findNext().text.replace(\"\\n\",\"\").strip()\n",
    "    except:\n",
    "        director = \"\"\n",
    "    \n",
    "    try:\n",
    "        prod_company = title_summary_soup.find(href=re.compile(\"/pro.imdb.com/company/\")).text\n",
    "    except:\n",
    "        prod_company = \"\"\n",
    "\n",
    "    try:\n",
    "        distributor = title_summary_soup.find(text=' Distributor\\n').findNext().find(href=re.compile(\"/company/\")).text\n",
    "    except: \n",
    "        distributor = \"\"\n",
    "        \n",
    "    try:\n",
    "        composer = title_summary_soup.find(text=re.compile(\"Composer\")).findNext().text.replace(\"\\n\",\"\").strip()\n",
    "    except:\n",
    "        composer = \"\"\n",
    "\n",
    "    return [release_date, rating, runtime, genres, director, prod_company, distributor, composer, budget]\n"
   ]
  },
  {
   "cell_type": "markdown",
   "metadata": {},
   "source": [
    "### Log into IMDB Pro (free 30-day trial available) with Selenium to begin scraping data"
   ]
  },
  {
   "cell_type": "code",
   "execution_count": null,
   "metadata": {},
   "outputs": [],
   "source": [
    "driver = webdriver.Chrome(chromedriver)\n",
    "driver.get(\"https://pro.imdb.com/login/auth?u=https%3A%2F%2Fpro.imdb.com%2F\")\n",
    "\n",
    "username = driver.find_element_by_name(\"email\")\n",
    "username.clear()\n",
    "username.send_keys(\"User_Name\")\n",
    "\n",
    "time.sleep(1)\n",
    "password = driver.find_element_by_name(\"password\")\n",
    "password.clear()\n",
    "password.send_keys(\"User_Password\")\n",
    "\n",
    "driver.find_element_by_css_selector(\".signin-button-text\").click() "
   ]
  },
  {
   "cell_type": "markdown",
   "metadata": {},
   "source": [
    "### Cycle through IMDB Pro pages by year, creating a list of dictionaries with each movie and its features"
   ]
  },
  {
   "cell_type": "code",
   "execution_count": null,
   "metadata": {},
   "outputs": [],
   "source": [
    "movie_dict_list = []\n",
    "for year in year_range:\n",
    "    # Once logged in pause for random time to avoid being booted, then navigate to first page with movies\n",
    "    time.sleep(0.5 + 2 * random.random())\n",
    "    driver.get(imdb_home_site + \"/\" + str(year))\n",
    "    source = driver.page_source\n",
    "    web_page_soup = BeautifulSoup(source, \"html5lib\")\n",
    "    \n",
    "    # Narrow down HTML to rows with movies using identifier \"releasegroup\"\n",
    "    movies_table = web_page_soup.find_all(\"a\", href=re.compile(\"/releasegroup/\"))\n",
    "\n",
    "    # Iterate through each row and pull movie details    \n",
    "    for row in movies_table:\n",
    "        \n",
    "        # If worldwide box office is < minimum set, skip movie. And since movies are\n",
    "        # arranged in order of descending box office, break loop to skip to next year\n",
    "        world_box_office = int(row.findNext().text.replace('$', '').replace(',', ''))\n",
    "        if world_box_office < world_box_min:\n",
    "            break\n",
    "        \n",
    "        # Pull domestic sales. International is difference between World and Domestic\n",
    "        try:\n",
    "            domestic_sales = int(row.findNext().findNext().text.replace('$', '').replace(',', ''))\n",
    "        except: # If domestic_sales = \"-\" (zero) a ValueError is thrown trying to convert to int\n",
    "            domestic_sales = 0\n",
    "        intl_sales = world_box_office - domestic_sales\n",
    "        \n",
    "        # Start list of features (features_list) with movie_title\n",
    "        movie_title = row.text.title()\n",
    "        features_list = [movie_title]\n",
    "        movie_link = imdb_root + row.attrs[\"href\"]\n",
    "        \n",
    "        # Direct driver to movie_link and create new soup object for that movie's site\n",
    "        time.sleep(0.5 + 2 * random.random())\n",
    "        driver.get(movie_link)\n",
    "        title_summary_soup = BeautifulSoup(driver.page_source, \"html5lib\")\n",
    "        \n",
    "        # Database holds some TV Episodes. If title is a TV Episode, skip to next title\n",
    "        if title_summary_soup.find(id=\"title_type\") == None:\n",
    "            pass\n",
    "        elif \"TV\" in title_summary_soup.find(id=\"title_type\").text.upper():\n",
    "            continue\n",
    "        \n",
    "        # Pull movie details from movie's page and add to features_list\n",
    "        title_summary_features = grab_title_summary_feats(title_summary_soup)\n",
    "        features_list.extend(title_summary_features)\n",
    "        \n",
    "        # After navigating to a movie's page the url shifts, so save new url\n",
    "        movie_link = driver.current_url\n",
    "\n",
    "        # Navigate to cast page of movie and pull main actor...\n",
    "        cast_url = imdb_root + \"/title/\" + movie_link[movie_link.find(\"title/\")+6:movie_link.find(\"/boxoffice\")] + \"/cast\"\n",
    "        \n",
    "        time.sleep(0.5 + 2 * random.random()) # random pause before changing url\n",
    "        driver.get(cast_url)\n",
    "        cast_soup = BeautifulSoup(driver.page_source,\"html5lib\")\n",
    "        try:\n",
    "            lead_actor = cast_soup.find(\"a\",href=re.compile(\"cst_1\")).text\n",
    "        except:\n",
    "            lead_actor = \"\"\n",
    "        \n",
    "        # ...and append features to features_list\n",
    "        features_list.append(lead_actor)\n",
    "        features_list.append(domestic_sales)\n",
    "        features_list.append(intl_sales)\n",
    "        features_list.append(world_box_office)      \n",
    "        \n",
    "        field_names = [\"Title\",\"ReleaseDate\",\"Rating\",\"Runtime\",\"Genres\",\"Director\",\"Prod_Company\", \n",
    "               \"Distributor\",\"Composer\",\"Budget\",\"Lead_Actor\",\"Domestic_Sales\",\"Intl_Sales\",\"Global_Sales\"]\n",
    "        \n",
    "        # Create dictionary for movie with features\n",
    "        movie_dict = dict(zip(field_names, features_list))\n",
    "        \n",
    "        # Append movie dictionaries to list on each iteration\n",
    "        movie_dict_list.append(movie_dict)"
   ]
  },
  {
   "cell_type": "markdown",
   "metadata": {},
   "source": [
    "### Pickle movie_dict_list and close driver"
   ]
  },
  {
   "cell_type": "code",
   "execution_count": null,
   "metadata": {},
   "outputs": [],
   "source": [
    "# Pickle dict for later use\n",
    "with open(\"imdbPro_movie_dict_list.pkl\",\"wb\") as picklefile:\n",
    "    pickle.dump(movie_dict_list, picklefile)"
   ]
  },
  {
   "cell_type": "code",
   "execution_count": null,
   "metadata": {},
   "outputs": [],
   "source": [
    "# Close driver when finished scraping\n",
    "driver.close()"
   ]
  },
  {
   "cell_type": "markdown",
   "metadata": {},
   "source": [
    "### Convert **movie_dict_list** to DataFrame\n",
    "* Add Title_Year field for use in matching titles later, and \n",
    "* Combine domestic and intl sales into Global"
   ]
  },
  {
   "cell_type": "code",
   "execution_count": 7,
   "metadata": {},
   "outputs": [],
   "source": [
    "with open(\"imdbPro_movie_dict_list.pkl\",\"rb\") as picklefile:\n",
    "    movie_dict_list = pickle.load(picklefile)"
   ]
  },
  {
   "cell_type": "code",
   "execution_count": 10,
   "metadata": {},
   "outputs": [],
   "source": [
    "movie_df = pd.DataFrame(movie_dict_list)"
   ]
  },
  {
   "cell_type": "code",
   "execution_count": 11,
   "metadata": {},
   "outputs": [],
   "source": [
    "movie_df[\"Title_Year\"] = movie_df[\"Title\"] + \" \" + movie_df[\"ReleaseDate\"].apply(lambda x:\"(\" + str(x.year) + \")\")"
   ]
  },
  {
   "cell_type": "code",
   "execution_count": 12,
   "metadata": {},
   "outputs": [],
   "source": [
    "movie_df[\"Global_Sales\"] = movie_df[\"Domestic_Sales\"] + movie_df[\"Intl_Sales\"]"
   ]
  },
  {
   "cell_type": "code",
   "execution_count": 14,
   "metadata": {},
   "outputs": [
    {
     "data": {
      "text/html": [
       "<div>\n",
       "<style scoped>\n",
       "    .dataframe tbody tr th:only-of-type {\n",
       "        vertical-align: middle;\n",
       "    }\n",
       "\n",
       "    .dataframe tbody tr th {\n",
       "        vertical-align: top;\n",
       "    }\n",
       "\n",
       "    .dataframe thead th {\n",
       "        text-align: right;\n",
       "    }\n",
       "</style>\n",
       "<table border=\"1\" class=\"dataframe\">\n",
       "  <thead>\n",
       "    <tr style=\"text-align: right;\">\n",
       "      <th></th>\n",
       "      <th>Title</th>\n",
       "      <th>ReleaseDate</th>\n",
       "      <th>Rating</th>\n",
       "      <th>Runtime</th>\n",
       "      <th>Genres</th>\n",
       "      <th>Director</th>\n",
       "      <th>Prod_Company</th>\n",
       "      <th>Distributor</th>\n",
       "      <th>Composer</th>\n",
       "      <th>Budget</th>\n",
       "      <th>Lead_Actor</th>\n",
       "      <th>Domestic_Sales</th>\n",
       "      <th>Intl_Sales</th>\n",
       "      <th>Global_Sales</th>\n",
       "      <th>Title_Year</th>\n",
       "    </tr>\n",
       "  </thead>\n",
       "  <tbody>\n",
       "    <tr>\n",
       "      <th>0</th>\n",
       "      <td>Harry Potter And The Goblet Of Fire</td>\n",
       "      <td>2005-11-18</td>\n",
       "      <td>PG-13</td>\n",
       "      <td>157</td>\n",
       "      <td>Adventure, Family, Fantasy</td>\n",
       "      <td>Mike Newell</td>\n",
       "      <td>Warner Bros.</td>\n",
       "      <td>Warner Bros.</td>\n",
       "      <td>Patrick Doyle</td>\n",
       "      <td>150000000</td>\n",
       "      <td>Eric Sykes</td>\n",
       "      <td>290013036</td>\n",
       "      <td>605908000</td>\n",
       "      <td>895921036</td>\n",
       "      <td>Harry Potter And The Goblet Of Fire (2005)</td>\n",
       "    </tr>\n",
       "    <tr>\n",
       "      <th>1</th>\n",
       "      <td>Star Wars: Episode Iii - Revenge Of The Sith</td>\n",
       "      <td>2005-05-19</td>\n",
       "      <td>PG-13</td>\n",
       "      <td>140</td>\n",
       "      <td>Action, Adventure, Fantasy</td>\n",
       "      <td>George Lucas (directed by)</td>\n",
       "      <td>Lucasfilm</td>\n",
       "      <td>Twentieth Century Fox</td>\n",
       "      <td>John Williams (music by)</td>\n",
       "      <td>113000000</td>\n",
       "      <td>Ewan McGregor</td>\n",
       "      <td>380270577</td>\n",
       "      <td>488081953</td>\n",
       "      <td>868352530</td>\n",
       "      <td>Star Wars: Episode Iii - Revenge Of The Sith (...</td>\n",
       "    </tr>\n",
       "    <tr>\n",
       "      <th>2</th>\n",
       "      <td>The Chronicles Of Narnia: The Lion, The Witch ...</td>\n",
       "      <td>2005-12-09</td>\n",
       "      <td>PG</td>\n",
       "      <td>143</td>\n",
       "      <td>Adventure, Family, Fantasy</td>\n",
       "      <td>Andrew Adamson</td>\n",
       "      <td>Walt Disney Pictures</td>\n",
       "      <td>Buena Vista Pictures</td>\n",
       "      <td>Harry Gregson-Williams</td>\n",
       "      <td>180000000</td>\n",
       "      <td>Georgie Henley</td>\n",
       "      <td>291710957</td>\n",
       "      <td>453302158</td>\n",
       "      <td>745013115</td>\n",
       "      <td>The Chronicles Of Narnia: The Lion, The Witch ...</td>\n",
       "    </tr>\n",
       "    <tr>\n",
       "      <th>3</th>\n",
       "      <td>War Of The Worlds</td>\n",
       "      <td>2005-06-29</td>\n",
       "      <td>PG-13</td>\n",
       "      <td>116</td>\n",
       "      <td>Adventure, Sci-Fi, Thriller</td>\n",
       "      <td>Steven Spielberg</td>\n",
       "      <td>Paramount Pictures</td>\n",
       "      <td>Paramount Pictures</td>\n",
       "      <td>John Williams</td>\n",
       "      <td>132000000</td>\n",
       "      <td>Tom Cruise</td>\n",
       "      <td>234280354</td>\n",
       "      <td>369592765</td>\n",
       "      <td>603873119</td>\n",
       "      <td>War Of The Worlds (2005)</td>\n",
       "    </tr>\n",
       "    <tr>\n",
       "      <th>4</th>\n",
       "      <td>King Kong</td>\n",
       "      <td>2005-12-14</td>\n",
       "      <td>PG-13</td>\n",
       "      <td>187</td>\n",
       "      <td>Action, Adventure, Drama</td>\n",
       "      <td>Peter Jackson</td>\n",
       "      <td>Universal Pictures</td>\n",
       "      <td>Universal Pictures</td>\n",
       "      <td>James Newton Howard</td>\n",
       "      <td>207000000</td>\n",
       "      <td>Naomi Watts</td>\n",
       "      <td>218080025</td>\n",
       "      <td>344283424</td>\n",
       "      <td>562363449</td>\n",
       "      <td>King Kong (2005)</td>\n",
       "    </tr>\n",
       "  </tbody>\n",
       "</table>\n",
       "</div>"
      ],
      "text/plain": [
       "                                               Title ReleaseDate Rating  \\\n",
       "0                Harry Potter And The Goblet Of Fire  2005-11-18  PG-13   \n",
       "1       Star Wars: Episode Iii - Revenge Of The Sith  2005-05-19  PG-13   \n",
       "2  The Chronicles Of Narnia: The Lion, The Witch ...  2005-12-09     PG   \n",
       "3                                  War Of The Worlds  2005-06-29  PG-13   \n",
       "4                                          King Kong  2005-12-14  PG-13   \n",
       "\n",
       "  Runtime                       Genres                    Director  \\\n",
       "0     157   Adventure, Family, Fantasy                 Mike Newell   \n",
       "1     140   Action, Adventure, Fantasy  George Lucas (directed by)   \n",
       "2     143   Adventure, Family, Fantasy              Andrew Adamson   \n",
       "3     116  Adventure, Sci-Fi, Thriller            Steven Spielberg   \n",
       "4     187     Action, Adventure, Drama               Peter Jackson   \n",
       "\n",
       "           Prod_Company            Distributor                  Composer  \\\n",
       "0          Warner Bros.           Warner Bros.             Patrick Doyle   \n",
       "1             Lucasfilm  Twentieth Century Fox  John Williams (music by)   \n",
       "2  Walt Disney Pictures   Buena Vista Pictures    Harry Gregson-Williams   \n",
       "3    Paramount Pictures     Paramount Pictures             John Williams   \n",
       "4    Universal Pictures     Universal Pictures       James Newton Howard   \n",
       "\n",
       "      Budget      Lead_Actor  Domestic_Sales  Intl_Sales  Global_Sales  \\\n",
       "0  150000000      Eric Sykes       290013036   605908000     895921036   \n",
       "1  113000000   Ewan McGregor       380270577   488081953     868352530   \n",
       "2  180000000  Georgie Henley       291710957   453302158     745013115   \n",
       "3  132000000      Tom Cruise       234280354   369592765     603873119   \n",
       "4  207000000     Naomi Watts       218080025   344283424     562363449   \n",
       "\n",
       "                                          Title_Year  \n",
       "0         Harry Potter And The Goblet Of Fire (2005)  \n",
       "1  Star Wars: Episode Iii - Revenge Of The Sith (...  \n",
       "2  The Chronicles Of Narnia: The Lion, The Witch ...  \n",
       "3                           War Of The Worlds (2005)  \n",
       "4                                   King Kong (2005)  "
      ]
     },
     "execution_count": 14,
     "metadata": {},
     "output_type": "execute_result"
    }
   ],
   "source": [
    "movie_df.head()"
   ]
  },
  {
   "cell_type": "markdown",
   "metadata": {},
   "source": [
    "### Use separate (more accurate) site for pulling movie budgets\n",
    "1. Set range for how many **site_pages** you want to scrape (site has 60 pages total, 100 movies each page)\n",
    "2. Create dictionary with **key = movie title**, and **value = budget**"
   ]
  },
  {
   "cell_type": "code",
   "execution_count": null,
   "metadata": {},
   "outputs": [],
   "source": [
    "budget_site = \"https://www.the-numbers.com/movie/budgets/all\"\n",
    "site_pages = [str(x) for x in range(0,60)]\n",
    "budgets_list = []\n",
    "titles_list = []\n",
    "year_list = []\n",
    "\n",
    "# Iterate through each page, grabbing movie title and budget\n",
    "for page in site_pages:\n",
    "    if page == 0:\n",
    "        budget_html = BeautifulSoup(requests.get(budget_site).text, \"html5lib\")\n",
    "    else:\n",
    "        site = budget_site + \"/\" + page + \"01\"\n",
    "        budget_html = BeautifulSoup(requests.get(site).text,\"html5lib\")\n",
    "\n",
    "    # Pull budget data\n",
    "    budget_soup = budget_html.find_all(\"td\", class_=\"data\")\n",
    "    \n",
    "    # Each budget number is separated by three other numbers on page, so skip them\n",
    "    budget_rows = budget_soup[1::4]\n",
    "    budgets_list.extend([int(row.text[2:].replace(\",\",\"\")) for row in budget_rows])\n",
    "    \n",
    "    # Pull movie titles --- some movie titles exist on side of page, limit list to 100 to exclude\n",
    "    movie_soup = budget_html.find_all(\"a\", href=re.compile(\"#tab=summary\"), limit=100)\n",
    "    titles_list.extend([movie.text.title() for movie in movie_soup])\n",
    "    \n",
    "    # Pull years\n",
    "    date_soup = budget_html.find_all(\"a\",href=re.compile(\"/box-office-chart/\"))\n",
    "    year_list.extend([date.text[-4:] for date in date_soup])"
   ]
  },
  {
   "cell_type": "markdown",
   "metadata": {},
   "source": [
    "### Ensure budget and titles lists are aligned and convert lists to DF\n",
    "* Drop movies where year < lowest year in **movie_df** or unknown,\n",
    "* then pickle **title_budget_df**"
   ]
  },
  {
   "cell_type": "code",
   "execution_count": null,
   "metadata": {},
   "outputs": [],
   "source": [
    "print(\"titles list len:\",len(titles_list))\n",
    "print(\"budgets list len:\",len(budgets_list))\n",
    "print(\"year list len:\",len(year_list))"
   ]
  },
  {
   "cell_type": "code",
   "execution_count": null,
   "metadata": {},
   "outputs": [],
   "source": [
    "title_budget_df = pd.DataFrame(zip(titles_list,year_list,budgets_list),columns=[\"Title\",\"Year\",\"Budget\"])"
   ]
  },
  {
   "cell_type": "code",
   "execution_count": null,
   "metadata": {},
   "outputs": [],
   "source": [
    "title_budget_df = title_budget_df[(title_budget_df[\"Year\"]>=str(min(year_range))) &\\\n",
    "                                  (title_budget_df[\"Year\"]!=\"nown\")]"
   ]
  },
  {
   "cell_type": "code",
   "execution_count": 16,
   "metadata": {},
   "outputs": [
    {
     "data": {
      "text/html": [
       "<div>\n",
       "<style scoped>\n",
       "    .dataframe tbody tr th:only-of-type {\n",
       "        vertical-align: middle;\n",
       "    }\n",
       "\n",
       "    .dataframe tbody tr th {\n",
       "        vertical-align: top;\n",
       "    }\n",
       "\n",
       "    .dataframe thead th {\n",
       "        text-align: right;\n",
       "    }\n",
       "</style>\n",
       "<table border=\"1\" class=\"dataframe\">\n",
       "  <thead>\n",
       "    <tr style=\"text-align: right;\">\n",
       "      <th></th>\n",
       "      <th>Title</th>\n",
       "      <th>Year</th>\n",
       "      <th>Budget</th>\n",
       "    </tr>\n",
       "  </thead>\n",
       "  <tbody>\n",
       "    <tr>\n",
       "      <th>1990</th>\n",
       "      <td>Take The Lead</td>\n",
       "      <td>2006</td>\n",
       "      <td>30000000</td>\n",
       "    </tr>\n",
       "    <tr>\n",
       "      <th>1590</th>\n",
       "      <td>Un Monstre Ã  Paris</td>\n",
       "      <td>2013</td>\n",
       "      <td>40000000</td>\n",
       "    </tr>\n",
       "    <tr>\n",
       "      <th>174</th>\n",
       "      <td>Moana</td>\n",
       "      <td>2016</td>\n",
       "      <td>150000000</td>\n",
       "    </tr>\n",
       "    <tr>\n",
       "      <th>1723</th>\n",
       "      <td>Must Love Dogs</td>\n",
       "      <td>2005</td>\n",
       "      <td>35000000</td>\n",
       "    </tr>\n",
       "    <tr>\n",
       "      <th>5416</th>\n",
       "      <td>The Islands</td>\n",
       "      <td>2019</td>\n",
       "      <td>1200000</td>\n",
       "    </tr>\n",
       "  </tbody>\n",
       "</table>\n",
       "</div>"
      ],
      "text/plain": [
       "                     Title  Year     Budget\n",
       "1990         Take The Lead  2006   30000000\n",
       "1590  Un Monstre Ã  Paris   2013   40000000\n",
       "174                  Moana  2016  150000000\n",
       "1723        Must Love Dogs  2005   35000000\n",
       "5416           The Islands  2019    1200000"
      ]
     },
     "execution_count": 16,
     "metadata": {},
     "output_type": "execute_result"
    }
   ],
   "source": [
    "title_budget_df.sample(5)"
   ]
  },
  {
   "cell_type": "code",
   "execution_count": null,
   "metadata": {},
   "outputs": [],
   "source": [
    "# Pickle df\n",
    "with open(\"title_budget_df_create.pkl\",\"wb\") as picklefile:\n",
    "    pickle.dump(title_budget_df, picklefile)"
   ]
  },
  {
   "cell_type": "code",
   "execution_count": 15,
   "metadata": {},
   "outputs": [],
   "source": [
    "# Pickle df\n",
    "with open(\"title_budget_df_create.pkl\",\"rb\") as picklefile:\n",
    "    title_budget_df = pickle.load(picklefile)"
   ]
  },
  {
   "cell_type": "markdown",
   "metadata": {},
   "source": [
    "### Some titles in title_budget_df in have encoding issues, including â\\x80\\x99 (apostrophe) or â\\x80\\x94 (dash)\n",
    "* Clean up keys by replacing with correct values, creating new dict in the process"
   ]
  },
  {
   "cell_type": "code",
   "execution_count": 17,
   "metadata": {},
   "outputs": [],
   "source": [
    "title_budget_df[\"Title\"] = title_budget_df[\"Title\"].apply(lambda x: x.replace(\"â\\x80\\x99\",\"'\")\n",
    "                                                          .replace(\"â\\x80\\x94\",\" - \"))\n"
   ]
  },
  {
   "cell_type": "code",
   "execution_count": 20,
   "metadata": {},
   "outputs": [
    {
     "data": {
      "text/html": [
       "<div>\n",
       "<style scoped>\n",
       "    .dataframe tbody tr th:only-of-type {\n",
       "        vertical-align: middle;\n",
       "    }\n",
       "\n",
       "    .dataframe tbody tr th {\n",
       "        vertical-align: top;\n",
       "    }\n",
       "\n",
       "    .dataframe thead th {\n",
       "        text-align: right;\n",
       "    }\n",
       "</style>\n",
       "<table border=\"1\" class=\"dataframe\">\n",
       "  <thead>\n",
       "    <tr style=\"text-align: right;\">\n",
       "      <th></th>\n",
       "      <th>Title</th>\n",
       "      <th>Year</th>\n",
       "      <th>Budget</th>\n",
       "    </tr>\n",
       "  </thead>\n",
       "  <tbody>\n",
       "    <tr>\n",
       "      <th>596</th>\n",
       "      <td>The Pink Panther</td>\n",
       "      <td>2006</td>\n",
       "      <td>80000000</td>\n",
       "    </tr>\n",
       "    <tr>\n",
       "      <th>5205</th>\n",
       "      <td>No Man'S Land: The Rise Of Reeker</td>\n",
       "      <td>2008</td>\n",
       "      <td>2000000</td>\n",
       "    </tr>\n",
       "    <tr>\n",
       "      <th>2122</th>\n",
       "      <td>Tag</td>\n",
       "      <td>2018</td>\n",
       "      <td>28000000</td>\n",
       "    </tr>\n",
       "    <tr>\n",
       "      <th>1223</th>\n",
       "      <td>Eastern Promises</td>\n",
       "      <td>2007</td>\n",
       "      <td>50000000</td>\n",
       "    </tr>\n",
       "    <tr>\n",
       "      <th>5132</th>\n",
       "      <td>All Saints</td>\n",
       "      <td>2017</td>\n",
       "      <td>2000000</td>\n",
       "    </tr>\n",
       "  </tbody>\n",
       "</table>\n",
       "</div>"
      ],
      "text/plain": [
       "                                  Title  Year    Budget\n",
       "596                    The Pink Panther  2006  80000000\n",
       "5205  No Man'S Land: The Rise Of Reeker  2008   2000000\n",
       "2122                                Tag  2018  28000000\n",
       "1223                   Eastern Promises  2007  50000000\n",
       "5132                         All Saints  2017   2000000"
      ]
     },
     "execution_count": 20,
     "metadata": {},
     "output_type": "execute_result"
    }
   ],
   "source": [
    "title_budget_df.sample(5)"
   ]
  },
  {
   "cell_type": "markdown",
   "metadata": {},
   "source": [
    "### And then:\n",
    "Make movie title fields of **title_budget_df** and **movie_df** uniform so you can merge budget data into **movie_df**, joining on movie title. <br/>\n",
    "* When **str.title( )** is applied to movie titles in above code ( 't and 's ) get capitalized - make lowercase\n",
    "* Movies with multiple parts have varying formats (e.g. III vs 3) - make consistent\n",
    "* Add unique ID of **Title + Year** in **title_budget_df**"
   ]
  },
  {
   "cell_type": "code",
   "execution_count": 22,
   "metadata": {},
   "outputs": [],
   "source": [
    "def correct_title(string):\n",
    "    string = string.replace(\"'S\",\"'s\").replace(\"'T\",\"'t\").replace(\"'Re\",\"'re\")\n",
    "    string = string.replace(\"Part Iv\",\"Part 4\").replace(\"Iii\",\"3\").replace(\"Ii\",\"2\")\n",
    "    string = string.replace(\"Episode I\",\"Episode 1\").replace(\"Ep. I\",\"Ep. 1\").replace(\"Part I\", \"Part 1\")\n",
    "    string = string.replace(\"Ix\",\"9\").replace(\"Viii\",\"8\").replace(\"Vii\",\"7\").replace(\"Part Vi\",\"Part 6\")\n",
    "    string = string.replace(\"Vi:\",\"6:\").replace(\"V:\",\"5:\").replace(\"Iv:\",\"4:\").replace(\" Iv\",\" 4\")\n",
    "    string = string.replace(\"Ep.\",\"Episode\")\n",
    "    return string\n",
    "\n",
    "movie_df[\"Title\"] = movie_df[\"Title\"].apply(correct_title)\n",
    "title_budget_df[\"Title\"]= title_budget_df[\"Title\"].apply(correct_title)"
   ]
  },
  {
   "cell_type": "code",
   "execution_count": 23,
   "metadata": {},
   "outputs": [],
   "source": [
    "title_budget_df[\"Title_Year\"] = title_budget_df[\"Title\"] + \" (\" + title_budget_df[\"Year\"] + \")\"  "
   ]
  },
  {
   "cell_type": "code",
   "execution_count": 24,
   "metadata": {},
   "outputs": [
    {
     "data": {
      "text/html": [
       "<div>\n",
       "<style scoped>\n",
       "    .dataframe tbody tr th:only-of-type {\n",
       "        vertical-align: middle;\n",
       "    }\n",
       "\n",
       "    .dataframe tbody tr th {\n",
       "        vertical-align: top;\n",
       "    }\n",
       "\n",
       "    .dataframe thead th {\n",
       "        text-align: right;\n",
       "    }\n",
       "</style>\n",
       "<table border=\"1\" class=\"dataframe\">\n",
       "  <thead>\n",
       "    <tr style=\"text-align: right;\">\n",
       "      <th></th>\n",
       "      <th>Title</th>\n",
       "      <th>Year</th>\n",
       "      <th>Budget</th>\n",
       "      <th>Title_Year</th>\n",
       "    </tr>\n",
       "  </thead>\n",
       "  <tbody>\n",
       "    <tr>\n",
       "      <th>1927</th>\n",
       "      <td>The Hitman's Bodyguard</td>\n",
       "      <td>2017</td>\n",
       "      <td>30000000</td>\n",
       "      <td>The Hitman's Bodyguard (2017)</td>\n",
       "    </tr>\n",
       "    <tr>\n",
       "      <th>291</th>\n",
       "      <td>The Bourne Legacy</td>\n",
       "      <td>2012</td>\n",
       "      <td>125000000</td>\n",
       "      <td>The Bourne Legacy (2012)</td>\n",
       "    </tr>\n",
       "    <tr>\n",
       "      <th>2397</th>\n",
       "      <td>Love Ranch</td>\n",
       "      <td>2010</td>\n",
       "      <td>25000000</td>\n",
       "      <td>Love Ranch (2010)</td>\n",
       "    </tr>\n",
       "    <tr>\n",
       "      <th>2058</th>\n",
       "      <td>Johnny English Strikes Again</td>\n",
       "      <td>2018</td>\n",
       "      <td>30000000</td>\n",
       "      <td>Johnny English Strikes Again (2018)</td>\n",
       "    </tr>\n",
       "    <tr>\n",
       "      <th>526</th>\n",
       "      <td>Ocean's Thirteen</td>\n",
       "      <td>2007</td>\n",
       "      <td>85000000</td>\n",
       "      <td>Ocean's Thirteen (2007)</td>\n",
       "    </tr>\n",
       "  </tbody>\n",
       "</table>\n",
       "</div>"
      ],
      "text/plain": [
       "                             Title  Year     Budget  \\\n",
       "1927        The Hitman's Bodyguard  2017   30000000   \n",
       "291              The Bourne Legacy  2012  125000000   \n",
       "2397                    Love Ranch  2010   25000000   \n",
       "2058  Johnny English Strikes Again  2018   30000000   \n",
       "526               Ocean's Thirteen  2007   85000000   \n",
       "\n",
       "                               Title_Year  \n",
       "1927        The Hitman's Bodyguard (2017)  \n",
       "291              The Bourne Legacy (2012)  \n",
       "2397                    Love Ranch (2010)  \n",
       "2058  Johnny English Strikes Again (2018)  \n",
       "526               Ocean's Thirteen (2007)  "
      ]
     },
     "execution_count": 24,
     "metadata": {},
     "output_type": "execute_result"
    }
   ],
   "source": [
    "title_budget_df.sample(5)"
   ]
  },
  {
   "cell_type": "markdown",
   "metadata": {},
   "source": [
    "### In *movie_df* Director, Composer, and Genres fields sometimes have multiple names. Limit to just one."
   ]
  },
  {
   "cell_type": "code",
   "execution_count": 25,
   "metadata": {},
   "outputs": [],
   "source": [
    "def clean_feature(feature):\n",
    "    if \"(\" in feature:\n",
    "        feature = feature[:feature.find(\"(\")]\n",
    "    if \"|\" in feature:\n",
    "        feature = feature[:feature.find(\"|\")]\n",
    "    \n",
    "    return feature.strip()"
   ]
  },
  {
   "cell_type": "code",
   "execution_count": 26,
   "metadata": {},
   "outputs": [],
   "source": [
    "# Apply clean function to Director & Composer fields\n",
    "movie_df[\"Director\"] = movie_df[\"Director\"].apply(clean_feature)\n",
    "movie_df[\"Composer\"] = movie_df[\"Composer\"].apply(clean_feature)"
   ]
  },
  {
   "cell_type": "code",
   "execution_count": 27,
   "metadata": {},
   "outputs": [],
   "source": [
    "# Create column with only first Genre from IMDB Pro list\n",
    "movie_df[\"Lead_Genre\"] = movie_df[\"Genres\"].apply(lambda x: x.split(\",\")[0])"
   ]
  },
  {
   "cell_type": "code",
   "execution_count": 28,
   "metadata": {},
   "outputs": [
    {
     "data": {
      "text/html": [
       "<div>\n",
       "<style scoped>\n",
       "    .dataframe tbody tr th:only-of-type {\n",
       "        vertical-align: middle;\n",
       "    }\n",
       "\n",
       "    .dataframe tbody tr th {\n",
       "        vertical-align: top;\n",
       "    }\n",
       "\n",
       "    .dataframe thead th {\n",
       "        text-align: right;\n",
       "    }\n",
       "</style>\n",
       "<table border=\"1\" class=\"dataframe\">\n",
       "  <thead>\n",
       "    <tr style=\"text-align: right;\">\n",
       "      <th></th>\n",
       "      <th>Title</th>\n",
       "      <th>ReleaseDate</th>\n",
       "      <th>Rating</th>\n",
       "      <th>Runtime</th>\n",
       "      <th>Genres</th>\n",
       "      <th>Director</th>\n",
       "      <th>Prod_Company</th>\n",
       "      <th>Distributor</th>\n",
       "      <th>Composer</th>\n",
       "      <th>Budget</th>\n",
       "      <th>Lead_Actor</th>\n",
       "      <th>Domestic_Sales</th>\n",
       "      <th>Intl_Sales</th>\n",
       "      <th>Global_Sales</th>\n",
       "      <th>Title_Year</th>\n",
       "      <th>Lead_Genre</th>\n",
       "    </tr>\n",
       "  </thead>\n",
       "  <tbody>\n",
       "    <tr>\n",
       "      <th>1863</th>\n",
       "      <td>Ender's Game</td>\n",
       "      <td>2013-11-01</td>\n",
       "      <td>PG-13</td>\n",
       "      <td>114</td>\n",
       "      <td>Action, Adventure, Family</td>\n",
       "      <td>Gavin Hood</td>\n",
       "      <td>Summit Entertainment</td>\n",
       "      <td>Lionsgate</td>\n",
       "      <td>Steve Jablonsky</td>\n",
       "      <td>110000000</td>\n",
       "      <td>Asa Butterfield</td>\n",
       "      <td>61737191</td>\n",
       "      <td>63806833</td>\n",
       "      <td>125544024</td>\n",
       "      <td>Ender'S Game (2013)</td>\n",
       "      <td>Action</td>\n",
       "    </tr>\n",
       "    <tr>\n",
       "      <th>1975</th>\n",
       "      <td>Fruitvale Station</td>\n",
       "      <td>2013-07-26</td>\n",
       "      <td>R</td>\n",
       "      <td>85</td>\n",
       "      <td>Biography, Crime, Drama</td>\n",
       "      <td>Ryan Coogler</td>\n",
       "      <td>Forest Whitaker's Significant Productions</td>\n",
       "      <td>The Weinstein Company</td>\n",
       "      <td>Ludwig Göransson</td>\n",
       "      <td>900000</td>\n",
       "      <td>Michael B. Jordan</td>\n",
       "      <td>16101339</td>\n",
       "      <td>1284491</td>\n",
       "      <td>17385830</td>\n",
       "      <td>Fruitvale Station (2013)</td>\n",
       "      <td>Biography</td>\n",
       "    </tr>\n",
       "    <tr>\n",
       "      <th>182</th>\n",
       "      <td>Kinky Boots</td>\n",
       "      <td>2006-05-26</td>\n",
       "      <td>PG-13</td>\n",
       "      <td>107</td>\n",
       "      <td>Comedy, Drama, Music</td>\n",
       "      <td>Julian Jarrold</td>\n",
       "      <td>Miramax</td>\n",
       "      <td>Miramax</td>\n",
       "      <td>Adrian Johnston</td>\n",
       "      <td>0</td>\n",
       "      <td>Joel Edgerton</td>\n",
       "      <td>1822428</td>\n",
       "      <td>8127705</td>\n",
       "      <td>9950133</td>\n",
       "      <td>Kinky Boots (2006)</td>\n",
       "      <td>Comedy</td>\n",
       "    </tr>\n",
       "    <tr>\n",
       "      <th>1966</th>\n",
       "      <td>The Best Offer</td>\n",
       "      <td>2014-01-01</td>\n",
       "      <td>R</td>\n",
       "      <td>131</td>\n",
       "      <td>Crime, Drama, Mystery</td>\n",
       "      <td>Giuseppe Tornatore</td>\n",
       "      <td>Paco Cinematografica</td>\n",
       "      <td>MPI Home Video</td>\n",
       "      <td>Ennio Morricone</td>\n",
       "      <td>0</td>\n",
       "      <td>Geoffrey Rush</td>\n",
       "      <td>100035</td>\n",
       "      <td>20496315</td>\n",
       "      <td>20596350</td>\n",
       "      <td>The Best Offer (2014)</td>\n",
       "      <td>Crime</td>\n",
       "    </tr>\n",
       "    <tr>\n",
       "      <th>177</th>\n",
       "      <td>The Great Raid</td>\n",
       "      <td>2005-08-12</td>\n",
       "      <td>R</td>\n",
       "      <td>132</td>\n",
       "      <td>Action, Drama, War</td>\n",
       "      <td>John Dahl</td>\n",
       "      <td>Miramax</td>\n",
       "      <td>Miramax</td>\n",
       "      <td>Trevor Rabin</td>\n",
       "      <td>80000000</td>\n",
       "      <td>Benjamin Bratt</td>\n",
       "      <td>10167373</td>\n",
       "      <td>601938</td>\n",
       "      <td>10769311</td>\n",
       "      <td>The Great Raid (2005)</td>\n",
       "      <td>Action</td>\n",
       "    </tr>\n",
       "  </tbody>\n",
       "</table>\n",
       "</div>"
      ],
      "text/plain": [
       "                  Title ReleaseDate Rating Runtime                     Genres  \\\n",
       "1863       Ender's Game  2013-11-01  PG-13     114  Action, Adventure, Family   \n",
       "1975  Fruitvale Station  2013-07-26      R      85    Biography, Crime, Drama   \n",
       "182         Kinky Boots  2006-05-26  PG-13     107       Comedy, Drama, Music   \n",
       "1966     The Best Offer  2014-01-01      R     131      Crime, Drama, Mystery   \n",
       "177      The Great Raid  2005-08-12      R     132         Action, Drama, War   \n",
       "\n",
       "                Director                               Prod_Company  \\\n",
       "1863          Gavin Hood                       Summit Entertainment   \n",
       "1975        Ryan Coogler  Forest Whitaker's Significant Productions   \n",
       "182       Julian Jarrold                                    Miramax   \n",
       "1966  Giuseppe Tornatore                       Paco Cinematografica   \n",
       "177            John Dahl                                    Miramax   \n",
       "\n",
       "                Distributor          Composer     Budget         Lead_Actor  \\\n",
       "1863              Lionsgate   Steve Jablonsky  110000000    Asa Butterfield   \n",
       "1975  The Weinstein Company  Ludwig Göransson     900000  Michael B. Jordan   \n",
       "182                 Miramax   Adrian Johnston          0      Joel Edgerton   \n",
       "1966         MPI Home Video   Ennio Morricone          0      Geoffrey Rush   \n",
       "177                 Miramax      Trevor Rabin   80000000     Benjamin Bratt   \n",
       "\n",
       "      Domestic_Sales  Intl_Sales  Global_Sales                Title_Year  \\\n",
       "1863        61737191    63806833     125544024       Ender'S Game (2013)   \n",
       "1975        16101339     1284491      17385830  Fruitvale Station (2013)   \n",
       "182          1822428     8127705       9950133        Kinky Boots (2006)   \n",
       "1966          100035    20496315      20596350     The Best Offer (2014)   \n",
       "177         10167373      601938      10769311     The Great Raid (2005)   \n",
       "\n",
       "     Lead_Genre  \n",
       "1863     Action  \n",
       "1975  Biography  \n",
       "182      Comedy  \n",
       "1966      Crime  \n",
       "177      Action  "
      ]
     },
     "execution_count": 28,
     "metadata": {},
     "output_type": "execute_result"
    }
   ],
   "source": [
    "movie_df.sample(5)"
   ]
  },
  {
   "cell_type": "markdown",
   "metadata": {},
   "source": [
    "### Pickle cleaned DFs"
   ]
  },
  {
   "cell_type": "code",
   "execution_count": null,
   "metadata": {},
   "outputs": [],
   "source": [
    "with open(\"IMDBPro_movie_df_cleaned.pkl\",\"wb\") as picklefile:\n",
    "    pickle.dump(movie_df, picklefile)\n",
    "    \n",
    "with open(\"title_budget_df_cleaned.pkl\",\"wb\") as picklefile:\n",
    "    pickle.dump(title_budget_df, picklefile)"
   ]
  },
  {
   "cell_type": "markdown",
   "metadata": {},
   "source": [
    "### Merge budget data into **movie_df**, joining on movie title.\n",
    "* Use **fuzzywuzzy** string matching to account for any titles that have slight differences between DataFrames"
   ]
  },
  {
   "cell_type": "code",
   "execution_count": 29,
   "metadata": {},
   "outputs": [
    {
     "data": {
      "text/html": [
       "<div>\n",
       "<style scoped>\n",
       "    .dataframe tbody tr th:only-of-type {\n",
       "        vertical-align: middle;\n",
       "    }\n",
       "\n",
       "    .dataframe tbody tr th {\n",
       "        vertical-align: top;\n",
       "    }\n",
       "\n",
       "    .dataframe thead th {\n",
       "        text-align: right;\n",
       "    }\n",
       "</style>\n",
       "<table border=\"1\" class=\"dataframe\">\n",
       "  <thead>\n",
       "    <tr style=\"text-align: right;\">\n",
       "      <th></th>\n",
       "      <th>Title</th>\n",
       "      <th>Year</th>\n",
       "      <th>Budget</th>\n",
       "      <th>Title_Year</th>\n",
       "    </tr>\n",
       "  </thead>\n",
       "  <tbody>\n",
       "    <tr>\n",
       "      <th>5182</th>\n",
       "      <td>Lost River</td>\n",
       "      <td>2015</td>\n",
       "      <td>2000000</td>\n",
       "      <td>Lost River (2015)</td>\n",
       "    </tr>\n",
       "    <tr>\n",
       "      <th>5840</th>\n",
       "      <td>Give Me Shelter</td>\n",
       "      <td>2015</td>\n",
       "      <td>250000</td>\n",
       "      <td>Give Me Shelter (2015)</td>\n",
       "    </tr>\n",
       "    <tr>\n",
       "      <th>4608</th>\n",
       "      <td>Hostel</td>\n",
       "      <td>2006</td>\n",
       "      <td>4800000</td>\n",
       "      <td>Hostel (2006)</td>\n",
       "    </tr>\n",
       "    <tr>\n",
       "      <th>1210</th>\n",
       "      <td>All The Money In The World</td>\n",
       "      <td>2017</td>\n",
       "      <td>50000000</td>\n",
       "      <td>All The Money In The World (2017)</td>\n",
       "    </tr>\n",
       "    <tr>\n",
       "      <th>3922</th>\n",
       "      <td>The Purge: Anarchy</td>\n",
       "      <td>2014</td>\n",
       "      <td>9000000</td>\n",
       "      <td>The Purge: Anarchy (2014)</td>\n",
       "    </tr>\n",
       "  </tbody>\n",
       "</table>\n",
       "</div>"
      ],
      "text/plain": [
       "                           Title  Year    Budget  \\\n",
       "5182                  Lost River  2015   2000000   \n",
       "5840             Give Me Shelter  2015    250000   \n",
       "4608                      Hostel  2006   4800000   \n",
       "1210  All The Money In The World  2017  50000000   \n",
       "3922          The Purge: Anarchy  2014   9000000   \n",
       "\n",
       "                             Title_Year  \n",
       "5182                  Lost River (2015)  \n",
       "5840             Give Me Shelter (2015)  \n",
       "4608                      Hostel (2006)  \n",
       "1210  All The Money In The World (2017)  \n",
       "3922          The Purge: Anarchy (2014)  "
      ]
     },
     "execution_count": 29,
     "metadata": {},
     "output_type": "execute_result"
    }
   ],
   "source": [
    "title_budget_df.sample(5)"
   ]
  },
  {
   "cell_type": "code",
   "execution_count": null,
   "metadata": {},
   "outputs": [],
   "source": [
    "from fuzzywuzzy import process\n",
    "title_matched_from_budget_df = []\n",
    "fuzzy_scores = []\n",
    "for title in movie_df[\"Title_Year\"]:\n",
    "    fuzzy_scores.append(process.extract(title, title_budget_df[\"Title_Year\"], limit=1)[0][1])\n",
    "    title_matched_from_budget_df.append(process.extract(title, title_budget_df[\"Title_Year\"], limit=1)[0][0])        "
   ]
  },
  {
   "cell_type": "code",
   "execution_count": null,
   "metadata": {},
   "outputs": [],
   "source": [
    "title_fuzzy_df = pd.DataFrame([list(movie_df[\"Title_Year\"]),title_matched_from_budget_df,fuzzy_scores]).T\n",
    "title_fuzzy_df.columns=[\"Title_Year\",\"title_matched_from_budget_df\",\"Fuzzy_score\"]"
   ]
  },
  {
   "cell_type": "code",
   "execution_count": null,
   "metadata": {},
   "outputs": [],
   "source": [
    "title_fuzzy_df.sample(5)"
   ]
  },
  {
   "cell_type": "markdown",
   "metadata": {},
   "source": [
    "### Pickle title_fuzzy_df"
   ]
  },
  {
   "cell_type": "code",
   "execution_count": null,
   "metadata": {},
   "outputs": [],
   "source": [
    "with open(\"Title_and_Fuzzy.pkl\",\"wb\") as picklefile:\n",
    "    pickle.dump(title_fuzzy_df, picklefile)"
   ]
  },
  {
   "cell_type": "markdown",
   "metadata": {},
   "source": [
    "### Join fuzzy score and matched movie title from title_budget_df onto movie_df"
   ]
  },
  {
   "cell_type": "code",
   "execution_count": null,
   "metadata": {},
   "outputs": [],
   "source": [
    "movie_df_joined = movie_df.join(title_fuzzy_df.set_index(\"Title_Year\"), on=\"Title_Year\")"
   ]
  },
  {
   "cell_type": "code",
   "execution_count": null,
   "metadata": {},
   "outputs": [],
   "source": [
    "movie_df_joined = movie_df_joined.join(title_budget_df.set_index(\"Title_Year\"), \n",
    "                                       on='title_matched_from_budget_df', rsuffix=\"_Numbers\")"
   ]
  },
  {
   "cell_type": "code",
   "execution_count": null,
   "metadata": {},
   "outputs": [],
   "source": [
    "cols = ['Title_Year','Fuzzy_score','ReleaseDate','Budget_Numbers','Rating',\n",
    "        'Runtime','Genres','Lead_Genre','Director','Prod_Company','Distributor','Composer','Lead_Actor',\n",
    "        'Domestic_Sales','Intl_Sales','Global_Sales']\n",
    "\n",
    "movie_df_joined = movie_df_joined[cols]"
   ]
  },
  {
   "cell_type": "markdown",
   "metadata": {},
   "source": [
    "* **Rename Budget data from The Numbers to be final Budget column**\n",
    "* **Add in Net Profit field**"
   ]
  },
  {
   "cell_type": "code",
   "execution_count": null,
   "metadata": {},
   "outputs": [],
   "source": [
    "movie_df_joined = movie_df_joined.rename(columns={\"Budget_Numbers\":\"Budget\",\"Title_Year\":\"Title\"})"
   ]
  },
  {
   "cell_type": "code",
   "execution_count": null,
   "metadata": {},
   "outputs": [],
   "source": [
    "movie_df_joined[\"Net_Profit\"] = movie_df_joined[\"Global_Sales\"] - movie_df_joined[\"Budget\"]"
   ]
  },
  {
   "cell_type": "code",
   "execution_count": null,
   "metadata": {},
   "outputs": [],
   "source": [
    "movie_df_joined.sample(5)"
   ]
  },
  {
   "cell_type": "markdown",
   "metadata": {},
   "source": [
    "### Narrow down data to those with valid Ratings and a Title matching score >= 95"
   ]
  },
  {
   "cell_type": "code",
   "execution_count": null,
   "metadata": {},
   "outputs": [],
   "source": [
    "df_model_data = movie_df_joined[(movie_df_joined[\"Fuzzy_score\"]>=95)\n",
    "                & (movie_df_joined[\"Rating\"].isin([\"G\",\"PG\",\"PG-13\",\"R\",\"NC-17\"]))\n",
    "                & (movie_df_joined[\"Domestic_Sales\"]>0)][[\"Title\",\"Budget\",\"ReleaseDate\",\n",
    "                                                           \"Rating\",\"Runtime\",\"Lead_Genre\",\"Lead_Actor\",\n",
    "                                                           \"Director\",\"Prod_Company\",\"Domestic_Sales\",\n",
    "                                                           \"Intl_Sales\",\"Global_Sales\",\"Net_Profit\"]]"
   ]
  },
  {
   "cell_type": "markdown",
   "metadata": {},
   "source": [
    "### Scrape top Actor names from The-Numbers.com"
   ]
  },
  {
   "cell_type": "code",
   "execution_count": null,
   "metadata": {},
   "outputs": [],
   "source": [
    "Numbers_actors_url = \"https://www.the-numbers.com/box-office-star-records/domestic/yearly-acting/highest-grossing-2020-stars\"\n",
    "page_soup = BeautifulSoup(requests.get(Numbers_actors_url).text,\"html5lib\")\n",
    "\n",
    "actor_soup = page_soup.find_all(\"a\",href=re.compile(\"/person/\"),limit=106)\n",
    "actor_list = [line.text for line in actor_soup[6:]]"
   ]
  },
  {
   "cell_type": "code",
   "execution_count": null,
   "metadata": {},
   "outputs": [],
   "source": [
    "df_model_data[\"Is_Pop_Actor\"] = df_model_data[\"Lead_Actor\"].apply(lambda x: 1 if x in actor_list else 0)"
   ]
  },
  {
   "cell_type": "markdown",
   "metadata": {},
   "source": [
    "### Scrape top Director names from The-Numbers.com"
   ]
  },
  {
   "cell_type": "code",
   "execution_count": null,
   "metadata": {},
   "outputs": [],
   "source": [
    "Numbers_directors_url = \"https://www.the-numbers.com/box-office-star-records/domestic/lifetime-specific-technical-role/director\"\n",
    "page_soup = BeautifulSoup(requests.get(Numbers_directors_url).text,\"html5lib\")\n",
    "\n",
    "director_soup = page_soup.find_all(\"a\",href=re.compile(\"/person/\"),limit=106)\n",
    "director_list = [line.text for line in director_soup[6:]]"
   ]
  },
  {
   "cell_type": "code",
   "execution_count": null,
   "metadata": {},
   "outputs": [],
   "source": [
    "df_model_data[\"Is_Pop_Director\"] = df_model_data[\"Director\"].apply(lambda x: 1 if x in director_list else 0)"
   ]
  },
  {
   "cell_type": "markdown",
   "metadata": {},
   "source": [
    "### Scrape Top Production Companies from The-Numbers.com"
   ]
  },
  {
   "cell_type": "code",
   "execution_count": null,
   "metadata": {},
   "outputs": [],
   "source": [
    "Numbers_production_url = \"https://www.the-numbers.com/movies/production-companies/\"\n",
    "page_soup = BeautifulSoup(requests.get(Numbers_production_url).text,\"html5lib\")"
   ]
  },
  {
   "cell_type": "code",
   "execution_count": null,
   "metadata": {},
   "outputs": [],
   "source": [
    "prod_soup = page_soup.find_all(\"a\",href=re.compile(\"production-company\"),limit=100)\n",
    "prod_list = [line.text for line in prod_soup]"
   ]
  },
  {
   "cell_type": "code",
   "execution_count": null,
   "metadata": {},
   "outputs": [],
   "source": [
    "df_model_data[\"Is_Pop_ProdComp\"] = df_model_data[\"Prod_Company\"].apply(lambda x: 1 if x in prod_list else 0)"
   ]
  },
  {
   "cell_type": "code",
   "execution_count": null,
   "metadata": {},
   "outputs": [],
   "source": [
    "df_model_data.sample(5)"
   ]
  },
  {
   "cell_type": "code",
   "execution_count": null,
   "metadata": {},
   "outputs": [],
   "source": []
  },
  {
   "cell_type": "code",
   "execution_count": null,
   "metadata": {},
   "outputs": [],
   "source": []
  }
 ],
 "metadata": {
  "kernelspec": {
   "display_name": "Python 3",
   "language": "python",
   "name": "python3"
  },
  "language_info": {
   "codemirror_mode": {
    "name": "ipython",
    "version": 3
   },
   "file_extension": ".py",
   "mimetype": "text/x-python",
   "name": "python",
   "nbconvert_exporter": "python",
   "pygments_lexer": "ipython3",
   "version": "3.7.6"
  }
 },
 "nbformat": 4,
 "nbformat_minor": 4
}
