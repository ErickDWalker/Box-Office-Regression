{
 "cells": [
  {
   "cell_type": "code",
   "execution_count": 2,
   "metadata": {},
   "outputs": [],
   "source": [
    "from bs4 import BeautifulSoup\n",
    "import requests\n",
    "import re\n",
    "import pickle\n",
    "import pandas as pd\n"
   ]
  },
  {
   "cell_type": "markdown",
   "metadata": {},
   "source": [
    "### Declare IMDB home site variable and the IMDB root urls, to be used frequently in code"
   ]
  },
  {
   "cell_type": "code",
   "execution_count": null,
   "metadata": {},
   "outputs": [],
   "source": [
    "imdb_root = \"https://pro.imdb.com\"\n",
    "imdb_home_site = \"https://pro.imdb.com/boxoffice/year/world\"\n",
    "\n",
    "# Ensure first site responds: status_code = 200 indicates success\n",
    "# print(requests.get(imdb_home_site + str(min(year_range))).status_code)"
   ]
  },
  {
   "cell_type": "markdown",
   "metadata": {},
   "source": [
    "### Set variables to determine range of scraping from Box Office Mojo:\n",
    "1. Year range (exclusive of upper bound), and \n",
    "2. Minimum box office proceeds to limit search"
   ]
  },
  {
   "cell_type": "code",
   "execution_count": null,
   "metadata": {},
   "outputs": [],
   "source": [
    "year_range = range(2005,2020)\n",
    "world_box_min = 5000000"
   ]
  },
  {
   "cell_type": "markdown",
   "metadata": {},
   "source": [
    "### Function to grab features from the main title summary page on IMDB Pro:\n",
    "* Utilizes series of try, except statements. If feature doesn't exist on page set to (\"\")"
   ]
  },
  {
   "cell_type": "code",
   "execution_count": null,
   "metadata": {},
   "outputs": [],
   "source": [
    "def grab_title_summary_feats(title_summary_soup):\n",
    "    \"\"\"\n",
    "    Navigate to individual movie's Title Summary page and extract feature data\n",
    "    Input: BeautifulSoup object of individual movie's web page\n",
    "    Returns: list of individual movie's Title Summary data\n",
    "    \"\"\"\n",
    "    try:\n",
    "        budget = title_summary_soup.find(text=re.compile(\"Budget\")).findNext().text.strip()\n",
    "        budget = int(budget.replace(\",\",\"\").replace(\"$\",\"\").replace(\"\\n\",\"\"))\n",
    "    except:\n",
    "        budget = 0\n",
    "    \n",
    "    try:\n",
    "        release_date = title_summary_soup.find(text=re.compile(\"Release date\")).findNext().find(\"a\").text\n",
    "        release_date = dateutil.parser.parse(release_date)\n",
    "    except:\n",
    "        release_date = \"\"\n",
    "        \n",
    "    try:\n",
    "        rating = title_summary_soup.find(id=\"certificate\").text[:-1].strip()\n",
    "    except:\n",
    "        rating = \"\"    \n",
    "        \n",
    "    try:\n",
    "        # runtime formatted as \"x min\" on page, so split into list and grab first element to pull minutes\n",
    "        runtime = int(title_summary_soup.find(id=\"running_time\").text[:-1].split()[0])\n",
    "    except:\n",
    "        runtime = \"\"        \n",
    "      \n",
    "    try:\n",
    "        genres = title_summary_soup.find(id=\"genres\").text\n",
    "    except:\n",
    "        genres = \"\"\n",
    "        \n",
    "    try:\n",
    "        # Director often include \"\\n\" --- replace with blank spaces\n",
    "        director = title_summary_soup.find(text=re.compile(\" Director\")).findNext().text.replace(\"\\n\",\"\").strip()\n",
    "    except:\n",
    "        director = \"\"\n",
    "    \n",
    "    try:\n",
    "        prod_company = title_summary_soup.find(href=re.compile(\"/pro.imdb.com/company/\")).text\n",
    "    except:\n",
    "        prod_company = \"\"\n",
    "\n",
    "    try:\n",
    "        distributor = title_summary_soup.find(text=' Distributor\\n').findNext().find(href=re.compile(\"/company/\")).text\n",
    "    except: \n",
    "        distributor = \"\"\n",
    "        \n",
    "    try:\n",
    "        composer = title_summary_soup.find(text=re.compile(\"Composer\")).findNext().text.replace(\"\\n\",\"\").strip()\n",
    "    except:\n",
    "        composer = \"\"\n",
    "\n",
    "    return [release_date, rating, runtime, genres, director, prod_company, distributor, composer, budget]\n"
   ]
  },
  {
   "cell_type": "markdown",
   "metadata": {},
   "source": [
    "### Log into IMDB Pro (free 30-day trial available) with Selenium to begin scraping data"
   ]
  },
  {
   "cell_type": "code",
   "execution_count": null,
   "metadata": {},
   "outputs": [],
   "source": [
    "driver = webdriver.Chrome(chromedriver)\n",
    "driver.get(\"https://pro.imdb.com/login/auth?u=https%3A%2F%2Fpro.imdb.com%2F\")\n",
    "\n",
    "username = driver.find_element_by_name(\"email\")\n",
    "username.clear()\n",
    "# Enter User Name Here\n",
    "username.send_keys(\"User_Name\")\n",
    "\n",
    "time.sleep(1)\n",
    "password = driver.find_element_by_name(\"password\")\n",
    "password.clear()\n",
    "# Enter Password Here\n",
    "password.send_keys(\"User_Password\")\n",
    "\n",
    "driver.find_element_by_css_selector(\".signin-button-text\").click() "
   ]
  },
  {
   "cell_type": "markdown",
   "metadata": {},
   "source": [
    "### Cycle through IMDB Pro pages by year, creating a list of dictionaries with each movie and its features"
   ]
  },
  {
   "cell_type": "code",
   "execution_count": null,
   "metadata": {},
   "outputs": [],
   "source": [
    "movie_dict_list = []\n",
    "for year in year_range:\n",
    "    # Once logged in pause for random time to avoid being booted, then navigate to first page with movies\n",
    "    time.sleep(0.5 + 2 * random.random())\n",
    "    driver.get(imdb_home_site + \"/\" + str(year))\n",
    "    source = driver.page_source\n",
    "    web_page_soup = BeautifulSoup(source, \"html5lib\")\n",
    "    \n",
    "    # Narrow down HTML to rows with movies using identifier \"releasegroup\"\n",
    "    movies_table = web_page_soup.find_all(\"a\", href=re.compile(\"/releasegroup/\"))\n",
    "\n",
    "    # Iterate through each row and pull movie details    \n",
    "    for row in movies_table:\n",
    "        \n",
    "        # If worldwide box office is < minimum set, skip movie. And since movies are\n",
    "        # arranged in order of descending box office, break loop to skip to next year\n",
    "        world_box_office = int(row.findNext().text.replace('$', '').replace(',', ''))\n",
    "        if world_box_office < world_box_min:\n",
    "            break\n",
    "        \n",
    "        # Pull domestic sales. International is difference between World and Domestic\n",
    "        try:\n",
    "            domestic_sales = int(row.findNext().findNext().text.replace('$', '').replace(',', ''))\n",
    "        except: # If domestic_sales = \"-\" (zero) a ValueError is thrown trying to convert to int\n",
    "            domestic_sales = 0\n",
    "        intl_sales = world_box_office - domestic_sales\n",
    "        \n",
    "        # Start list of features (features_list) with movie_title\n",
    "        movie_title = row.text.title()\n",
    "        features_list = [movie_title]\n",
    "        movie_link = imdb_root + row.attrs[\"href\"]\n",
    "        \n",
    "        # Direct driver to movie_link and create new soup object for that movie's site\n",
    "        time.sleep(0.5 + 2 * random.random())\n",
    "        driver.get(movie_link)\n",
    "        title_summary_soup = BeautifulSoup(driver.page_source, \"html5lib\")\n",
    "        \n",
    "        # Database holds some TV Episodes. If title is a TV Episode, skip to next title\n",
    "        if title_summary_soup.find(id=\"title_type\") == None:\n",
    "            pass\n",
    "        elif \"TV\" in title_summary_soup.find(id=\"title_type\").text.upper():\n",
    "            continue\n",
    "        \n",
    "        # Pull movie details from movie's page and add to features_list\n",
    "        title_summary_features = grab_title_summary_feats(title_summary_soup)\n",
    "        features_list.extend(title_summary_features)\n",
    "        \n",
    "        # After navigating to a movie's page the url shifts, so save new url\n",
    "        movie_link = driver.current_url\n",
    "\n",
    "        # Navigate to cast page of movie and pull main actor...\n",
    "        cast_url = imdb_root + \"/title/\" + movie_link[movie_link.find(\"title/\")+6:movie_link.find(\"/boxoffice\")] + \"/cast\"\n",
    "        \n",
    "        time.sleep(0.5 + 2 * random.random()) # random pause before changing url\n",
    "        driver.get(cast_url)\n",
    "        cast_soup = BeautifulSoup(driver.page_source,\"html5lib\")\n",
    "        try:\n",
    "            lead_actor = cast_soup.find(\"a\",href=re.compile(\"cst_1\")).text\n",
    "        except:\n",
    "            lead_actor = \"\"\n",
    "        \n",
    "        # ...and append features to features_list\n",
    "        features_list.append(lead_actor)\n",
    "        features_list.append(domestic_sales)\n",
    "        features_list.append(intl_sales)\n",
    "        features_list.append(world_box_office)      \n",
    "        \n",
    "        field_names = [\"Title\",\"ReleaseDate\",\"Rating\",\"Runtime\",\"Genres\",\"Director\",\"Prod_Company\", \n",
    "               \"Distributor\",\"Composer\",\"Budget\",\"Lead_Actor\",\"Domestic_Sales\",\"Intl_Sales\",\"Global_Sales\"]\n",
    "        \n",
    "        # Create dictionary for movie with features\n",
    "        movie_dict = dict(zip(field_names, features_list))\n",
    "        \n",
    "        # Append movie dictionaries to list on each iteration\n",
    "        movie_dict_list.append(movie_dict)"
   ]
  },
  {
   "cell_type": "markdown",
   "metadata": {},
   "source": [
    "### Pickle movie_dict_list and close driver"
   ]
  },
  {
   "cell_type": "code",
   "execution_count": null,
   "metadata": {},
   "outputs": [],
   "source": [
    "# Pickle dict for later use\n",
    "with open(\"movie_dict_list.pkl\",\"wb\") as picklefile:\n",
    "    pickle.dump(movie_dict_list, picklefile)"
   ]
  },
  {
   "cell_type": "code",
   "execution_count": null,
   "metadata": {},
   "outputs": [],
   "source": [
    "# Close driver when finished scraping\n",
    "driver.close()"
   ]
  },
  {
   "cell_type": "markdown",
   "metadata": {},
   "source": [
    "### Convert **movie_dict_list** to DataFrame\n",
    "* Add Title_Year field for use in matching titles later, and \n",
    "* Combine domestic and intl sales into Global"
   ]
  },
  {
   "cell_type": "code",
   "execution_count": 6,
   "metadata": {},
   "outputs": [],
   "source": [
    "with open(\"movie_dict_list.pkl\",\"rb\") as picklefile:\n",
    "    movie_dict_list = pickle.load(picklefile)"
   ]
  },
  {
   "cell_type": "code",
   "execution_count": 7,
   "metadata": {},
   "outputs": [],
   "source": [
    "movie_df = pd.DataFrame(movie_dict_list)"
   ]
  },
  {
   "cell_type": "code",
   "execution_count": 8,
   "metadata": {},
   "outputs": [],
   "source": [
    "movie_df[\"Title_Year\"] = movie_df[\"Title\"] + \" \" + movie_df[\"ReleaseDate\"].apply(lambda x:\"(\" + str(x.year) + \")\")"
   ]
  },
  {
   "cell_type": "code",
   "execution_count": 9,
   "metadata": {},
   "outputs": [],
   "source": [
    "movie_df[\"Global_Sales\"] = movie_df[\"Domestic_Sales\"] + movie_df[\"Intl_Sales\"]"
   ]
  },
  {
   "cell_type": "code",
   "execution_count": 10,
   "metadata": {},
   "outputs": [
    {
     "data": {
      "text/html": [
       "<div>\n",
       "<style scoped>\n",
       "    .dataframe tbody tr th:only-of-type {\n",
       "        vertical-align: middle;\n",
       "    }\n",
       "\n",
       "    .dataframe tbody tr th {\n",
       "        vertical-align: top;\n",
       "    }\n",
       "\n",
       "    .dataframe thead th {\n",
       "        text-align: right;\n",
       "    }\n",
       "</style>\n",
       "<table border=\"1\" class=\"dataframe\">\n",
       "  <thead>\n",
       "    <tr style=\"text-align: right;\">\n",
       "      <th></th>\n",
       "      <th>Title</th>\n",
       "      <th>ReleaseDate</th>\n",
       "      <th>Rating</th>\n",
       "      <th>Runtime</th>\n",
       "      <th>Genres</th>\n",
       "      <th>Director</th>\n",
       "      <th>Prod_Company</th>\n",
       "      <th>Distributor</th>\n",
       "      <th>Composer</th>\n",
       "      <th>Budget</th>\n",
       "      <th>Lead_Actor</th>\n",
       "      <th>Domestic_Sales</th>\n",
       "      <th>Intl_Sales</th>\n",
       "      <th>Global_Sales</th>\n",
       "      <th>Title_Year</th>\n",
       "    </tr>\n",
       "  </thead>\n",
       "  <tbody>\n",
       "    <tr>\n",
       "      <th>0</th>\n",
       "      <td>Harry Potter And The Goblet Of Fire</td>\n",
       "      <td>2005-11-18</td>\n",
       "      <td>PG-13</td>\n",
       "      <td>157</td>\n",
       "      <td>Adventure, Family, Fantasy</td>\n",
       "      <td>Mike Newell</td>\n",
       "      <td>Warner Bros.</td>\n",
       "      <td>Warner Bros.</td>\n",
       "      <td>Patrick Doyle</td>\n",
       "      <td>150000000</td>\n",
       "      <td>Eric Sykes</td>\n",
       "      <td>290013036</td>\n",
       "      <td>605908000</td>\n",
       "      <td>895921036</td>\n",
       "      <td>Harry Potter And The Goblet Of Fire (2005)</td>\n",
       "    </tr>\n",
       "    <tr>\n",
       "      <th>1</th>\n",
       "      <td>Star Wars: Episode Iii - Revenge Of The Sith</td>\n",
       "      <td>2005-05-19</td>\n",
       "      <td>PG-13</td>\n",
       "      <td>140</td>\n",
       "      <td>Action, Adventure, Fantasy</td>\n",
       "      <td>George Lucas (directed by)</td>\n",
       "      <td>Lucasfilm</td>\n",
       "      <td>Twentieth Century Fox</td>\n",
       "      <td>John Williams (music by)</td>\n",
       "      <td>113000000</td>\n",
       "      <td>Ewan McGregor</td>\n",
       "      <td>380270577</td>\n",
       "      <td>488081953</td>\n",
       "      <td>868352530</td>\n",
       "      <td>Star Wars: Episode Iii - Revenge Of The Sith (...</td>\n",
       "    </tr>\n",
       "    <tr>\n",
       "      <th>2</th>\n",
       "      <td>The Chronicles Of Narnia: The Lion, The Witch ...</td>\n",
       "      <td>2005-12-09</td>\n",
       "      <td>PG</td>\n",
       "      <td>143</td>\n",
       "      <td>Adventure, Family, Fantasy</td>\n",
       "      <td>Andrew Adamson</td>\n",
       "      <td>Walt Disney Pictures</td>\n",
       "      <td>Buena Vista Pictures</td>\n",
       "      <td>Harry Gregson-Williams</td>\n",
       "      <td>180000000</td>\n",
       "      <td>Georgie Henley</td>\n",
       "      <td>291710957</td>\n",
       "      <td>453302158</td>\n",
       "      <td>745013115</td>\n",
       "      <td>The Chronicles Of Narnia: The Lion, The Witch ...</td>\n",
       "    </tr>\n",
       "    <tr>\n",
       "      <th>3</th>\n",
       "      <td>War Of The Worlds</td>\n",
       "      <td>2005-06-29</td>\n",
       "      <td>PG-13</td>\n",
       "      <td>116</td>\n",
       "      <td>Adventure, Sci-Fi, Thriller</td>\n",
       "      <td>Steven Spielberg</td>\n",
       "      <td>Paramount Pictures</td>\n",
       "      <td>Paramount Pictures</td>\n",
       "      <td>John Williams</td>\n",
       "      <td>132000000</td>\n",
       "      <td>Tom Cruise</td>\n",
       "      <td>234280354</td>\n",
       "      <td>369592765</td>\n",
       "      <td>603873119</td>\n",
       "      <td>War Of The Worlds (2005)</td>\n",
       "    </tr>\n",
       "    <tr>\n",
       "      <th>4</th>\n",
       "      <td>King Kong</td>\n",
       "      <td>2005-12-14</td>\n",
       "      <td>PG-13</td>\n",
       "      <td>187</td>\n",
       "      <td>Action, Adventure, Drama</td>\n",
       "      <td>Peter Jackson</td>\n",
       "      <td>Universal Pictures</td>\n",
       "      <td>Universal Pictures</td>\n",
       "      <td>James Newton Howard</td>\n",
       "      <td>207000000</td>\n",
       "      <td>Naomi Watts</td>\n",
       "      <td>218080025</td>\n",
       "      <td>344283424</td>\n",
       "      <td>562363449</td>\n",
       "      <td>King Kong (2005)</td>\n",
       "    </tr>\n",
       "  </tbody>\n",
       "</table>\n",
       "</div>"
      ],
      "text/plain": [
       "                                               Title ReleaseDate Rating  \\\n",
       "0                Harry Potter And The Goblet Of Fire  2005-11-18  PG-13   \n",
       "1       Star Wars: Episode Iii - Revenge Of The Sith  2005-05-19  PG-13   \n",
       "2  The Chronicles Of Narnia: The Lion, The Witch ...  2005-12-09     PG   \n",
       "3                                  War Of The Worlds  2005-06-29  PG-13   \n",
       "4                                          King Kong  2005-12-14  PG-13   \n",
       "\n",
       "  Runtime                       Genres                    Director  \\\n",
       "0     157   Adventure, Family, Fantasy                 Mike Newell   \n",
       "1     140   Action, Adventure, Fantasy  George Lucas (directed by)   \n",
       "2     143   Adventure, Family, Fantasy              Andrew Adamson   \n",
       "3     116  Adventure, Sci-Fi, Thriller            Steven Spielberg   \n",
       "4     187     Action, Adventure, Drama               Peter Jackson   \n",
       "\n",
       "           Prod_Company            Distributor                  Composer  \\\n",
       "0          Warner Bros.           Warner Bros.             Patrick Doyle   \n",
       "1             Lucasfilm  Twentieth Century Fox  John Williams (music by)   \n",
       "2  Walt Disney Pictures   Buena Vista Pictures    Harry Gregson-Williams   \n",
       "3    Paramount Pictures     Paramount Pictures             John Williams   \n",
       "4    Universal Pictures     Universal Pictures       James Newton Howard   \n",
       "\n",
       "      Budget      Lead_Actor  Domestic_Sales  Intl_Sales  Global_Sales  \\\n",
       "0  150000000      Eric Sykes       290013036   605908000     895921036   \n",
       "1  113000000   Ewan McGregor       380270577   488081953     868352530   \n",
       "2  180000000  Georgie Henley       291710957   453302158     745013115   \n",
       "3  132000000      Tom Cruise       234280354   369592765     603873119   \n",
       "4  207000000     Naomi Watts       218080025   344283424     562363449   \n",
       "\n",
       "                                          Title_Year  \n",
       "0         Harry Potter And The Goblet Of Fire (2005)  \n",
       "1  Star Wars: Episode Iii - Revenge Of The Sith (...  \n",
       "2  The Chronicles Of Narnia: The Lion, The Witch ...  \n",
       "3                           War Of The Worlds (2005)  \n",
       "4                                   King Kong (2005)  "
      ]
     },
     "execution_count": 10,
     "metadata": {},
     "output_type": "execute_result"
    }
   ],
   "source": [
    "movie_df.head()"
   ]
  },
  {
   "cell_type": "markdown",
   "metadata": {},
   "source": [
    "### Use separate (more accurate) site for pulling movie budgets\n",
    "1. Set range for how many **site_pages** you want to scrape (site has 60 pages total, 100 movies each page)\n",
    "2. Create dictionary with **key = movie title**, and **value = budget**"
   ]
  },
  {
   "cell_type": "code",
   "execution_count": null,
   "metadata": {},
   "outputs": [],
   "source": [
    "budget_site = \"https://www.the-numbers.com/movie/budgets/all\"\n",
    "site_pages = [str(x) for x in range(0,60)]\n",
    "budgets_list = []\n",
    "titles_list = []\n",
    "year_list = []\n",
    "\n",
    "# Iterate through each page, grabbing movie title and budget\n",
    "for page in site_pages:\n",
    "    if page == 0:\n",
    "        budget_html = BeautifulSoup(requests.get(budget_site).text, \"html5lib\")\n",
    "    else:\n",
    "        site = budget_site + \"/\" + page + \"01\"\n",
    "        budget_html = BeautifulSoup(requests.get(site).text,\"html5lib\")\n",
    "\n",
    "    # Pull budget data\n",
    "    budget_soup = budget_html.find_all(\"td\", class_=\"data\")\n",
    "    \n",
    "    # Each budget number is separated by three other numbers on page, so skip them\n",
    "    budget_rows = budget_soup[1::4]\n",
    "    budgets_list.extend([int(row.text[2:].replace(\",\",\"\")) for row in budget_rows])\n",
    "    \n",
    "    # Pull movie titles --- some movie titles exist on side of page, limit list to 100 to exclude\n",
    "    movie_soup = budget_html.find_all(\"a\", href=re.compile(\"#tab=summary\"), limit=100)\n",
    "    titles_list.extend([movie.text.title() for movie in movie_soup])\n",
    "    \n",
    "    # Pull years\n",
    "    date_soup = budget_html.find_all(\"a\",href=re.compile(\"/box-office-chart/\"))\n",
    "    year_list.extend([date.text[-4:] for date in date_soup])"
   ]
  },
  {
   "cell_type": "markdown",
   "metadata": {},
   "source": [
    "### Ensure budget and titles lists are aligned and convert lists to DF\n",
    "* Drop movies where year < lowest year in **movie_df** or unknown,\n",
    "* then pickle **title_budget_df**"
   ]
  },
  {
   "cell_type": "code",
   "execution_count": null,
   "metadata": {},
   "outputs": [],
   "source": [
    "print(\"titles list len:\",len(titles_list))\n",
    "print(\"budgets list len:\",len(budgets_list))\n",
    "print(\"year list len:\",len(year_list))"
   ]
  },
  {
   "cell_type": "code",
   "execution_count": null,
   "metadata": {},
   "outputs": [],
   "source": [
    "title_budget_df = pd.DataFrame(zip(titles_list,year_list,budgets_list),columns=[\"Title\",\"Year\",\"Budget\"])"
   ]
  },
  {
   "cell_type": "code",
   "execution_count": null,
   "metadata": {},
   "outputs": [],
   "source": [
    "title_budget_df = title_budget_df[(title_budget_df[\"Year\"]>=str(min(year_range))) &\\\n",
    "                                  (title_budget_df[\"Year\"]!=\"nown\")]"
   ]
  },
  {
   "cell_type": "code",
   "execution_count": 13,
   "metadata": {},
   "outputs": [
    {
     "data": {
      "text/html": [
       "<div>\n",
       "<style scoped>\n",
       "    .dataframe tbody tr th:only-of-type {\n",
       "        vertical-align: middle;\n",
       "    }\n",
       "\n",
       "    .dataframe tbody tr th {\n",
       "        vertical-align: top;\n",
       "    }\n",
       "\n",
       "    .dataframe thead th {\n",
       "        text-align: right;\n",
       "    }\n",
       "</style>\n",
       "<table border=\"1\" class=\"dataframe\">\n",
       "  <thead>\n",
       "    <tr style=\"text-align: right;\">\n",
       "      <th></th>\n",
       "      <th>Title</th>\n",
       "      <th>Year</th>\n",
       "      <th>Budget</th>\n",
       "    </tr>\n",
       "  </thead>\n",
       "  <tbody>\n",
       "    <tr>\n",
       "      <th>5119</th>\n",
       "      <td>Das Leben Der Anderen</td>\n",
       "      <td>2007</td>\n",
       "      <td>2000000</td>\n",
       "    </tr>\n",
       "    <tr>\n",
       "      <th>3865</th>\n",
       "      <td>Motherhood</td>\n",
       "      <td>2009</td>\n",
       "      <td>10000000</td>\n",
       "    </tr>\n",
       "    <tr>\n",
       "      <th>1601</th>\n",
       "      <td>Because I Said So</td>\n",
       "      <td>2007</td>\n",
       "      <td>39000000</td>\n",
       "    </tr>\n",
       "    <tr>\n",
       "      <th>724</th>\n",
       "      <td>Alvin And The Chipmunks: The Squeakquel</td>\n",
       "      <td>2009</td>\n",
       "      <td>70000000</td>\n",
       "    </tr>\n",
       "    <tr>\n",
       "      <th>651</th>\n",
       "      <td>Children Of Men</td>\n",
       "      <td>2006</td>\n",
       "      <td>76000000</td>\n",
       "    </tr>\n",
       "  </tbody>\n",
       "</table>\n",
       "</div>"
      ],
      "text/plain": [
       "                                        Title  Year    Budget\n",
       "5119                    Das Leben Der Anderen  2007   2000000\n",
       "3865                               Motherhood  2009  10000000\n",
       "1601                        Because I Said So  2007  39000000\n",
       "724   Alvin And The Chipmunks: The Squeakquel  2009  70000000\n",
       "651                           Children Of Men  2006  76000000"
      ]
     },
     "execution_count": 13,
     "metadata": {},
     "output_type": "execute_result"
    }
   ],
   "source": [
    "title_budget_df.sample(5)"
   ]
  },
  {
   "cell_type": "code",
   "execution_count": null,
   "metadata": {},
   "outputs": [],
   "source": [
    "# Pickle df\n",
    "with open(\"title_budget_df_create.pkl\",\"wb\") as picklefile:\n",
    "    pickle.dump(title_budget_df, picklefile)"
   ]
  },
  {
   "cell_type": "code",
   "execution_count": 12,
   "metadata": {},
   "outputs": [],
   "source": [
    "# Pickle df\n",
    "with open(\"title_budget_df_create.pkl\",\"rb\") as picklefile:\n",
    "    title_budget_df = pickle.load(picklefile)"
   ]
  },
  {
   "cell_type": "markdown",
   "metadata": {},
   "source": [
    "### Some titles in title_budget_df in have encoding issues, including â\\x80\\x99 (apostrophe) or â\\x80\\x94 (dash)\n",
    "* Clean up keys by replacing with correct values, creating new dict in the process"
   ]
  },
  {
   "cell_type": "code",
   "execution_count": 14,
   "metadata": {},
   "outputs": [],
   "source": [
    "title_budget_df[\"Title\"] = title_budget_df[\"Title\"].apply(lambda x: x.replace(\"â\\x80\\x99\",\"'\")\n",
    "                                                          .replace(\"â\\x80\\x94\",\" - \"))\n"
   ]
  },
  {
   "cell_type": "code",
   "execution_count": 19,
   "metadata": {},
   "outputs": [
    {
     "data": {
      "text/html": [
       "<div>\n",
       "<style scoped>\n",
       "    .dataframe tbody tr th:only-of-type {\n",
       "        vertical-align: middle;\n",
       "    }\n",
       "\n",
       "    .dataframe tbody tr th {\n",
       "        vertical-align: top;\n",
       "    }\n",
       "\n",
       "    .dataframe thead th {\n",
       "        text-align: right;\n",
       "    }\n",
       "</style>\n",
       "<table border=\"1\" class=\"dataframe\">\n",
       "  <thead>\n",
       "    <tr style=\"text-align: right;\">\n",
       "      <th></th>\n",
       "      <th>Title</th>\n",
       "      <th>Year</th>\n",
       "      <th>Budget</th>\n",
       "      <th>Title_Year</th>\n",
       "    </tr>\n",
       "  </thead>\n",
       "  <tbody>\n",
       "    <tr>\n",
       "      <th>0</th>\n",
       "      <td>Avengers: Endgame</td>\n",
       "      <td>2019</td>\n",
       "      <td>400000000</td>\n",
       "      <td>Avengers: Endgame (2019)</td>\n",
       "    </tr>\n",
       "    <tr>\n",
       "      <th>1</th>\n",
       "      <td>Pirates Of The Caribbean: On Stranger Tides</td>\n",
       "      <td>2011</td>\n",
       "      <td>379000000</td>\n",
       "      <td>Pirates Of The Caribbean: On Stranger Tides (2...</td>\n",
       "    </tr>\n",
       "    <tr>\n",
       "      <th>2</th>\n",
       "      <td>Avengers: Age Of Ultron</td>\n",
       "      <td>2015</td>\n",
       "      <td>365000000</td>\n",
       "      <td>Avengers: Age Of Ultron (2015)</td>\n",
       "    </tr>\n",
       "    <tr>\n",
       "      <th>3</th>\n",
       "      <td>Star Wars Episode 7: The Force Awakens</td>\n",
       "      <td>2015</td>\n",
       "      <td>306000000</td>\n",
       "      <td>Star Wars Episode 7: The Force Awakens (2015)</td>\n",
       "    </tr>\n",
       "    <tr>\n",
       "      <th>4</th>\n",
       "      <td>Avengers: Infinity War</td>\n",
       "      <td>2018</td>\n",
       "      <td>300000000</td>\n",
       "      <td>Avengers: Infinity War (2018)</td>\n",
       "    </tr>\n",
       "    <tr>\n",
       "      <th>5</th>\n",
       "      <td>Pirates Of The Caribbean: At World's End</td>\n",
       "      <td>2007</td>\n",
       "      <td>300000000</td>\n",
       "      <td>Pirates Of The Caribbean: At World's End (2007)</td>\n",
       "    </tr>\n",
       "    <tr>\n",
       "      <th>6</th>\n",
       "      <td>Justice League</td>\n",
       "      <td>2017</td>\n",
       "      <td>300000000</td>\n",
       "      <td>Justice League (2017)</td>\n",
       "    </tr>\n",
       "    <tr>\n",
       "      <th>7</th>\n",
       "      <td>Spectre</td>\n",
       "      <td>2015</td>\n",
       "      <td>300000000</td>\n",
       "      <td>Spectre (2015)</td>\n",
       "    </tr>\n",
       "    <tr>\n",
       "      <th>8</th>\n",
       "      <td>Star Wars: The Rise Of Skywalker</td>\n",
       "      <td>2019</td>\n",
       "      <td>275000000</td>\n",
       "      <td>Star Wars: The Rise Of Skywalker (2019)</td>\n",
       "    </tr>\n",
       "    <tr>\n",
       "      <th>9</th>\n",
       "      <td>Solo: A Star Wars Story</td>\n",
       "      <td>2018</td>\n",
       "      <td>275000000</td>\n",
       "      <td>Solo: A Star Wars Story (2018)</td>\n",
       "    </tr>\n",
       "  </tbody>\n",
       "</table>\n",
       "</div>"
      ],
      "text/plain": [
       "                                         Title  Year     Budget  \\\n",
       "0                            Avengers: Endgame  2019  400000000   \n",
       "1  Pirates Of The Caribbean: On Stranger Tides  2011  379000000   \n",
       "2                      Avengers: Age Of Ultron  2015  365000000   \n",
       "3       Star Wars Episode 7: The Force Awakens  2015  306000000   \n",
       "4                       Avengers: Infinity War  2018  300000000   \n",
       "5     Pirates Of The Caribbean: At World's End  2007  300000000   \n",
       "6                               Justice League  2017  300000000   \n",
       "7                                      Spectre  2015  300000000   \n",
       "8             Star Wars: The Rise Of Skywalker  2019  275000000   \n",
       "9                      Solo: A Star Wars Story  2018  275000000   \n",
       "\n",
       "                                          Title_Year  \n",
       "0                           Avengers: Endgame (2019)  \n",
       "1  Pirates Of The Caribbean: On Stranger Tides (2...  \n",
       "2                     Avengers: Age Of Ultron (2015)  \n",
       "3      Star Wars Episode 7: The Force Awakens (2015)  \n",
       "4                      Avengers: Infinity War (2018)  \n",
       "5    Pirates Of The Caribbean: At World's End (2007)  \n",
       "6                              Justice League (2017)  \n",
       "7                                     Spectre (2015)  \n",
       "8            Star Wars: The Rise Of Skywalker (2019)  \n",
       "9                     Solo: A Star Wars Story (2018)  "
      ]
     },
     "execution_count": 19,
     "metadata": {},
     "output_type": "execute_result"
    }
   ],
   "source": [
    "title_budget_df.head(10)"
   ]
  },
  {
   "cell_type": "markdown",
   "metadata": {},
   "source": [
    "### And then:\n",
    "Make movie title fields of **title_budget_df** and **movie_df** uniform so you can merge budget data into **movie_df**, joining on movie title. <br/>\n",
    "* When **str.title( )** is applied to movie titles in above code ( 't and 's ) get capitalized - make lowercase\n",
    "* Movies with multiple parts have varying formats (e.g. III vs 3) - make consistent\n",
    "* Add unique ID of **Title + Year** in **title_budget_df**"
   ]
  },
  {
   "cell_type": "code",
   "execution_count": 16,
   "metadata": {},
   "outputs": [],
   "source": [
    "def correct_title(string):\n",
    "    string = string.replace(\"'S\",\"'s\").replace(\"'T\",\"'t\").replace(\"'Re\",\"'re\")\n",
    "    string = string.replace(\"Part Iv\",\"Part 4\").replace(\"Iii\",\"3\").replace(\"Ii\",\"2\")\n",
    "    string = string.replace(\"Episode I\",\"Episode 1\").replace(\"Ep. I\",\"Ep. 1\").replace(\"Part I\", \"Part 1\")\n",
    "    string = string.replace(\"Ix\",\"9\").replace(\"Viii\",\"8\").replace(\"Vii\",\"7\").replace(\"Part Vi\",\"Part 6\")\n",
    "    string = string.replace(\"Vi:\",\"6:\").replace(\"V:\",\"5:\").replace(\"Iv:\",\"4:\").replace(\" Iv\",\" 4\")\n",
    "    string = string.replace(\"Ep.\",\"Episode\")\n",
    "    return string\n",
    "\n",
    "movie_df[\"Title\"] = movie_df[\"Title\"].apply(correct_title)\n",
    "title_budget_df[\"Title\"]= title_budget_df[\"Title\"].apply(correct_title)"
   ]
  },
  {
   "cell_type": "code",
   "execution_count": 17,
   "metadata": {},
   "outputs": [],
   "source": [
    "title_budget_df[\"Title_Year\"] = title_budget_df[\"Title\"] + \" (\" + title_budget_df[\"Year\"] + \")\"  "
   ]
  },
  {
   "cell_type": "code",
   "execution_count": 20,
   "metadata": {},
   "outputs": [
    {
     "data": {
      "text/html": [
       "<div>\n",
       "<style scoped>\n",
       "    .dataframe tbody tr th:only-of-type {\n",
       "        vertical-align: middle;\n",
       "    }\n",
       "\n",
       "    .dataframe tbody tr th {\n",
       "        vertical-align: top;\n",
       "    }\n",
       "\n",
       "    .dataframe thead th {\n",
       "        text-align: right;\n",
       "    }\n",
       "</style>\n",
       "<table border=\"1\" class=\"dataframe\">\n",
       "  <thead>\n",
       "    <tr style=\"text-align: right;\">\n",
       "      <th></th>\n",
       "      <th>Title</th>\n",
       "      <th>Year</th>\n",
       "      <th>Budget</th>\n",
       "      <th>Title_Year</th>\n",
       "    </tr>\n",
       "  </thead>\n",
       "  <tbody>\n",
       "    <tr>\n",
       "      <th>0</th>\n",
       "      <td>Avengers: Endgame</td>\n",
       "      <td>2019</td>\n",
       "      <td>400000000</td>\n",
       "      <td>Avengers: Endgame (2019)</td>\n",
       "    </tr>\n",
       "    <tr>\n",
       "      <th>1</th>\n",
       "      <td>Pirates Of The Caribbean: On Stranger Tides</td>\n",
       "      <td>2011</td>\n",
       "      <td>379000000</td>\n",
       "      <td>Pirates Of The Caribbean: On Stranger Tides (2...</td>\n",
       "    </tr>\n",
       "    <tr>\n",
       "      <th>2</th>\n",
       "      <td>Avengers: Age Of Ultron</td>\n",
       "      <td>2015</td>\n",
       "      <td>365000000</td>\n",
       "      <td>Avengers: Age Of Ultron (2015)</td>\n",
       "    </tr>\n",
       "    <tr>\n",
       "      <th>3</th>\n",
       "      <td>Star Wars Episode 7: The Force Awakens</td>\n",
       "      <td>2015</td>\n",
       "      <td>306000000</td>\n",
       "      <td>Star Wars Episode 7: The Force Awakens (2015)</td>\n",
       "    </tr>\n",
       "    <tr>\n",
       "      <th>4</th>\n",
       "      <td>Avengers: Infinity War</td>\n",
       "      <td>2018</td>\n",
       "      <td>300000000</td>\n",
       "      <td>Avengers: Infinity War (2018)</td>\n",
       "    </tr>\n",
       "    <tr>\n",
       "      <th>5</th>\n",
       "      <td>Pirates Of The Caribbean: At World's End</td>\n",
       "      <td>2007</td>\n",
       "      <td>300000000</td>\n",
       "      <td>Pirates Of The Caribbean: At World's End (2007)</td>\n",
       "    </tr>\n",
       "    <tr>\n",
       "      <th>6</th>\n",
       "      <td>Justice League</td>\n",
       "      <td>2017</td>\n",
       "      <td>300000000</td>\n",
       "      <td>Justice League (2017)</td>\n",
       "    </tr>\n",
       "    <tr>\n",
       "      <th>7</th>\n",
       "      <td>Spectre</td>\n",
       "      <td>2015</td>\n",
       "      <td>300000000</td>\n",
       "      <td>Spectre (2015)</td>\n",
       "    </tr>\n",
       "    <tr>\n",
       "      <th>8</th>\n",
       "      <td>Star Wars: The Rise Of Skywalker</td>\n",
       "      <td>2019</td>\n",
       "      <td>275000000</td>\n",
       "      <td>Star Wars: The Rise Of Skywalker (2019)</td>\n",
       "    </tr>\n",
       "    <tr>\n",
       "      <th>9</th>\n",
       "      <td>Solo: A Star Wars Story</td>\n",
       "      <td>2018</td>\n",
       "      <td>275000000</td>\n",
       "      <td>Solo: A Star Wars Story (2018)</td>\n",
       "    </tr>\n",
       "  </tbody>\n",
       "</table>\n",
       "</div>"
      ],
      "text/plain": [
       "                                         Title  Year     Budget  \\\n",
       "0                            Avengers: Endgame  2019  400000000   \n",
       "1  Pirates Of The Caribbean: On Stranger Tides  2011  379000000   \n",
       "2                      Avengers: Age Of Ultron  2015  365000000   \n",
       "3       Star Wars Episode 7: The Force Awakens  2015  306000000   \n",
       "4                       Avengers: Infinity War  2018  300000000   \n",
       "5     Pirates Of The Caribbean: At World's End  2007  300000000   \n",
       "6                               Justice League  2017  300000000   \n",
       "7                                      Spectre  2015  300000000   \n",
       "8             Star Wars: The Rise Of Skywalker  2019  275000000   \n",
       "9                      Solo: A Star Wars Story  2018  275000000   \n",
       "\n",
       "                                          Title_Year  \n",
       "0                           Avengers: Endgame (2019)  \n",
       "1  Pirates Of The Caribbean: On Stranger Tides (2...  \n",
       "2                     Avengers: Age Of Ultron (2015)  \n",
       "3      Star Wars Episode 7: The Force Awakens (2015)  \n",
       "4                      Avengers: Infinity War (2018)  \n",
       "5    Pirates Of The Caribbean: At World's End (2007)  \n",
       "6                              Justice League (2017)  \n",
       "7                                     Spectre (2015)  \n",
       "8            Star Wars: The Rise Of Skywalker (2019)  \n",
       "9                     Solo: A Star Wars Story (2018)  "
      ]
     },
     "execution_count": 20,
     "metadata": {},
     "output_type": "execute_result"
    }
   ],
   "source": [
    "title_budget_df.head(10)"
   ]
  },
  {
   "cell_type": "markdown",
   "metadata": {},
   "source": [
    "### In *movie_df* Director, Composer, and Genres fields sometimes have multiple names. Limit to first one."
   ]
  },
  {
   "cell_type": "code",
   "execution_count": 21,
   "metadata": {},
   "outputs": [],
   "source": [
    "def clean_feature(feature):\n",
    "    if \"(\" in feature:\n",
    "        feature = feature[:feature.find(\"(\")]\n",
    "    if \"|\" in feature:\n",
    "        feature = feature[:feature.find(\"|\")]\n",
    "    \n",
    "    return feature.strip()"
   ]
  },
  {
   "cell_type": "code",
   "execution_count": 22,
   "metadata": {},
   "outputs": [],
   "source": [
    "# Apply clean function to Director & Composer fields\n",
    "movie_df[\"Director\"] = movie_df[\"Director\"].apply(clean_feature)\n",
    "movie_df[\"Composer\"] = movie_df[\"Composer\"].apply(clean_feature)"
   ]
  },
  {
   "cell_type": "code",
   "execution_count": 23,
   "metadata": {},
   "outputs": [],
   "source": [
    "# Create column with only first Genre from IMDB Pro list\n",
    "movie_df[\"Lead_Genre\"] = movie_df[\"Genres\"].apply(lambda x: x.split(\",\")[0])"
   ]
  },
  {
   "cell_type": "code",
   "execution_count": 24,
   "metadata": {},
   "outputs": [
    {
     "data": {
      "text/html": [
       "<div>\n",
       "<style scoped>\n",
       "    .dataframe tbody tr th:only-of-type {\n",
       "        vertical-align: middle;\n",
       "    }\n",
       "\n",
       "    .dataframe tbody tr th {\n",
       "        vertical-align: top;\n",
       "    }\n",
       "\n",
       "    .dataframe thead th {\n",
       "        text-align: right;\n",
       "    }\n",
       "</style>\n",
       "<table border=\"1\" class=\"dataframe\">\n",
       "  <thead>\n",
       "    <tr style=\"text-align: right;\">\n",
       "      <th></th>\n",
       "      <th>Title</th>\n",
       "      <th>ReleaseDate</th>\n",
       "      <th>Rating</th>\n",
       "      <th>Runtime</th>\n",
       "      <th>Genres</th>\n",
       "      <th>Director</th>\n",
       "      <th>Prod_Company</th>\n",
       "      <th>Distributor</th>\n",
       "      <th>Composer</th>\n",
       "      <th>Budget</th>\n",
       "      <th>Lead_Actor</th>\n",
       "      <th>Domestic_Sales</th>\n",
       "      <th>Intl_Sales</th>\n",
       "      <th>Global_Sales</th>\n",
       "      <th>Title_Year</th>\n",
       "      <th>Lead_Genre</th>\n",
       "    </tr>\n",
       "  </thead>\n",
       "  <tbody>\n",
       "    <tr>\n",
       "      <th>0</th>\n",
       "      <td>Harry Potter And The Goblet Of Fire</td>\n",
       "      <td>2005-11-18</td>\n",
       "      <td>PG-13</td>\n",
       "      <td>157</td>\n",
       "      <td>Adventure, Family, Fantasy</td>\n",
       "      <td>Mike Newell</td>\n",
       "      <td>Warner Bros.</td>\n",
       "      <td>Warner Bros.</td>\n",
       "      <td>Patrick Doyle</td>\n",
       "      <td>150000000</td>\n",
       "      <td>Eric Sykes</td>\n",
       "      <td>290013036</td>\n",
       "      <td>605908000</td>\n",
       "      <td>895921036</td>\n",
       "      <td>Harry Potter And The Goblet Of Fire (2005)</td>\n",
       "      <td>Adventure</td>\n",
       "    </tr>\n",
       "    <tr>\n",
       "      <th>1</th>\n",
       "      <td>Star Wars: Episode 3 - Revenge Of The Sith</td>\n",
       "      <td>2005-05-19</td>\n",
       "      <td>PG-13</td>\n",
       "      <td>140</td>\n",
       "      <td>Action, Adventure, Fantasy</td>\n",
       "      <td>George Lucas</td>\n",
       "      <td>Lucasfilm</td>\n",
       "      <td>Twentieth Century Fox</td>\n",
       "      <td>John Williams</td>\n",
       "      <td>113000000</td>\n",
       "      <td>Ewan McGregor</td>\n",
       "      <td>380270577</td>\n",
       "      <td>488081953</td>\n",
       "      <td>868352530</td>\n",
       "      <td>Star Wars: Episode Iii - Revenge Of The Sith (...</td>\n",
       "      <td>Action</td>\n",
       "    </tr>\n",
       "    <tr>\n",
       "      <th>2</th>\n",
       "      <td>The Chronicles Of Narnia: The Lion, The Witch ...</td>\n",
       "      <td>2005-12-09</td>\n",
       "      <td>PG</td>\n",
       "      <td>143</td>\n",
       "      <td>Adventure, Family, Fantasy</td>\n",
       "      <td>Andrew Adamson</td>\n",
       "      <td>Walt Disney Pictures</td>\n",
       "      <td>Buena Vista Pictures</td>\n",
       "      <td>Harry Gregson-Williams</td>\n",
       "      <td>180000000</td>\n",
       "      <td>Georgie Henley</td>\n",
       "      <td>291710957</td>\n",
       "      <td>453302158</td>\n",
       "      <td>745013115</td>\n",
       "      <td>The Chronicles Of Narnia: The Lion, The Witch ...</td>\n",
       "      <td>Adventure</td>\n",
       "    </tr>\n",
       "    <tr>\n",
       "      <th>3</th>\n",
       "      <td>War Of The Worlds</td>\n",
       "      <td>2005-06-29</td>\n",
       "      <td>PG-13</td>\n",
       "      <td>116</td>\n",
       "      <td>Adventure, Sci-Fi, Thriller</td>\n",
       "      <td>Steven Spielberg</td>\n",
       "      <td>Paramount Pictures</td>\n",
       "      <td>Paramount Pictures</td>\n",
       "      <td>John Williams</td>\n",
       "      <td>132000000</td>\n",
       "      <td>Tom Cruise</td>\n",
       "      <td>234280354</td>\n",
       "      <td>369592765</td>\n",
       "      <td>603873119</td>\n",
       "      <td>War Of The Worlds (2005)</td>\n",
       "      <td>Adventure</td>\n",
       "    </tr>\n",
       "    <tr>\n",
       "      <th>4</th>\n",
       "      <td>King Kong</td>\n",
       "      <td>2005-12-14</td>\n",
       "      <td>PG-13</td>\n",
       "      <td>187</td>\n",
       "      <td>Action, Adventure, Drama</td>\n",
       "      <td>Peter Jackson</td>\n",
       "      <td>Universal Pictures</td>\n",
       "      <td>Universal Pictures</td>\n",
       "      <td>James Newton Howard</td>\n",
       "      <td>207000000</td>\n",
       "      <td>Naomi Watts</td>\n",
       "      <td>218080025</td>\n",
       "      <td>344283424</td>\n",
       "      <td>562363449</td>\n",
       "      <td>King Kong (2005)</td>\n",
       "      <td>Action</td>\n",
       "    </tr>\n",
       "    <tr>\n",
       "      <th>5</th>\n",
       "      <td>Madagascar</td>\n",
       "      <td>2005-05-27</td>\n",
       "      <td>PG</td>\n",
       "      <td>86</td>\n",
       "      <td>Animation, Adventure, Comedy</td>\n",
       "      <td>Eric Darnell</td>\n",
       "      <td>DreamWorks Animation</td>\n",
       "      <td>DreamWorks Distribution</td>\n",
       "      <td>Hans Zimmer</td>\n",
       "      <td>75000000</td>\n",
       "      <td>Ben Stiller</td>\n",
       "      <td>193595521</td>\n",
       "      <td>348468325</td>\n",
       "      <td>542063846</td>\n",
       "      <td>Madagascar (2005)</td>\n",
       "      <td>Animation</td>\n",
       "    </tr>\n",
       "    <tr>\n",
       "      <th>6</th>\n",
       "      <td>Mr. &amp; Mrs. Smith</td>\n",
       "      <td>2005-06-10</td>\n",
       "      <td>PG-13</td>\n",
       "      <td>120</td>\n",
       "      <td>Action, Comedy, Crime</td>\n",
       "      <td>Doug Liman</td>\n",
       "      <td>Regency Enterprises</td>\n",
       "      <td>Twentieth Century Fox</td>\n",
       "      <td>John Powell</td>\n",
       "      <td>110000000</td>\n",
       "      <td>Brad Pitt</td>\n",
       "      <td>186336279</td>\n",
       "      <td>300951367</td>\n",
       "      <td>487287646</td>\n",
       "      <td>Mr. &amp; Mrs. Smith (2005)</td>\n",
       "      <td>Action</td>\n",
       "    </tr>\n",
       "    <tr>\n",
       "      <th>7</th>\n",
       "      <td>Charlie And The Chocolate Factory</td>\n",
       "      <td>2005-07-15</td>\n",
       "      <td>PG</td>\n",
       "      <td>115</td>\n",
       "      <td>Adventure, Comedy, Family</td>\n",
       "      <td>Tim Burton</td>\n",
       "      <td>Warner Bros.</td>\n",
       "      <td>Warner Bros.</td>\n",
       "      <td>Danny Elfman</td>\n",
       "      <td>150000000</td>\n",
       "      <td>Johnny Depp</td>\n",
       "      <td>206459076</td>\n",
       "      <td>268509687</td>\n",
       "      <td>474968763</td>\n",
       "      <td>Charlie And The Chocolate Factory (2005)</td>\n",
       "      <td>Adventure</td>\n",
       "    </tr>\n",
       "    <tr>\n",
       "      <th>8</th>\n",
       "      <td>Mission: Impossible 3</td>\n",
       "      <td>2006-05-05</td>\n",
       "      <td>PG-13</td>\n",
       "      <td>126</td>\n",
       "      <td>Action, Adventure, Thriller</td>\n",
       "      <td>J.J. Abrams</td>\n",
       "      <td>Paramount Pictures</td>\n",
       "      <td>Paramount Pictures</td>\n",
       "      <td>Michael Giacchino</td>\n",
       "      <td>150000000</td>\n",
       "      <td>Tom Cruise</td>\n",
       "      <td>134029801</td>\n",
       "      <td>264449696</td>\n",
       "      <td>398479497</td>\n",
       "      <td>Mission: Impossible Iii (2006)</td>\n",
       "      <td>Action</td>\n",
       "    </tr>\n",
       "    <tr>\n",
       "      <th>9</th>\n",
       "      <td>Batman Begins</td>\n",
       "      <td>2005-06-15</td>\n",
       "      <td>PG-13</td>\n",
       "      <td>140</td>\n",
       "      <td>Action, Adventure</td>\n",
       "      <td>Christopher Nolan</td>\n",
       "      <td>Warner Bros.</td>\n",
       "      <td>Warner Bros.</td>\n",
       "      <td>James Newton Howard</td>\n",
       "      <td>150000000</td>\n",
       "      <td>Christian Bale</td>\n",
       "      <td>205343774</td>\n",
       "      <td>166510009</td>\n",
       "      <td>371853783</td>\n",
       "      <td>Batman Begins (2005)</td>\n",
       "      <td>Action</td>\n",
       "    </tr>\n",
       "  </tbody>\n",
       "</table>\n",
       "</div>"
      ],
      "text/plain": [
       "                                               Title ReleaseDate Rating  \\\n",
       "0                Harry Potter And The Goblet Of Fire  2005-11-18  PG-13   \n",
       "1         Star Wars: Episode 3 - Revenge Of The Sith  2005-05-19  PG-13   \n",
       "2  The Chronicles Of Narnia: The Lion, The Witch ...  2005-12-09     PG   \n",
       "3                                  War Of The Worlds  2005-06-29  PG-13   \n",
       "4                                          King Kong  2005-12-14  PG-13   \n",
       "5                                         Madagascar  2005-05-27     PG   \n",
       "6                                   Mr. & Mrs. Smith  2005-06-10  PG-13   \n",
       "7                  Charlie And The Chocolate Factory  2005-07-15     PG   \n",
       "8                              Mission: Impossible 3  2006-05-05  PG-13   \n",
       "9                                      Batman Begins  2005-06-15  PG-13   \n",
       "\n",
       "  Runtime                        Genres           Director  \\\n",
       "0     157    Adventure, Family, Fantasy        Mike Newell   \n",
       "1     140    Action, Adventure, Fantasy       George Lucas   \n",
       "2     143    Adventure, Family, Fantasy     Andrew Adamson   \n",
       "3     116   Adventure, Sci-Fi, Thriller   Steven Spielberg   \n",
       "4     187      Action, Adventure, Drama      Peter Jackson   \n",
       "5      86  Animation, Adventure, Comedy       Eric Darnell   \n",
       "6     120         Action, Comedy, Crime         Doug Liman   \n",
       "7     115     Adventure, Comedy, Family         Tim Burton   \n",
       "8     126   Action, Adventure, Thriller        J.J. Abrams   \n",
       "9     140             Action, Adventure  Christopher Nolan   \n",
       "\n",
       "           Prod_Company              Distributor                Composer  \\\n",
       "0          Warner Bros.             Warner Bros.           Patrick Doyle   \n",
       "1             Lucasfilm    Twentieth Century Fox           John Williams   \n",
       "2  Walt Disney Pictures     Buena Vista Pictures  Harry Gregson-Williams   \n",
       "3    Paramount Pictures       Paramount Pictures           John Williams   \n",
       "4    Universal Pictures       Universal Pictures     James Newton Howard   \n",
       "5  DreamWorks Animation  DreamWorks Distribution             Hans Zimmer   \n",
       "6   Regency Enterprises    Twentieth Century Fox             John Powell   \n",
       "7          Warner Bros.             Warner Bros.            Danny Elfman   \n",
       "8    Paramount Pictures       Paramount Pictures       Michael Giacchino   \n",
       "9          Warner Bros.             Warner Bros.     James Newton Howard   \n",
       "\n",
       "      Budget      Lead_Actor  Domestic_Sales  Intl_Sales  Global_Sales  \\\n",
       "0  150000000      Eric Sykes       290013036   605908000     895921036   \n",
       "1  113000000   Ewan McGregor       380270577   488081953     868352530   \n",
       "2  180000000  Georgie Henley       291710957   453302158     745013115   \n",
       "3  132000000      Tom Cruise       234280354   369592765     603873119   \n",
       "4  207000000     Naomi Watts       218080025   344283424     562363449   \n",
       "5   75000000     Ben Stiller       193595521   348468325     542063846   \n",
       "6  110000000       Brad Pitt       186336279   300951367     487287646   \n",
       "7  150000000     Johnny Depp       206459076   268509687     474968763   \n",
       "8  150000000      Tom Cruise       134029801   264449696     398479497   \n",
       "9  150000000  Christian Bale       205343774   166510009     371853783   \n",
       "\n",
       "                                          Title_Year Lead_Genre  \n",
       "0         Harry Potter And The Goblet Of Fire (2005)  Adventure  \n",
       "1  Star Wars: Episode Iii - Revenge Of The Sith (...     Action  \n",
       "2  The Chronicles Of Narnia: The Lion, The Witch ...  Adventure  \n",
       "3                           War Of The Worlds (2005)  Adventure  \n",
       "4                                   King Kong (2005)     Action  \n",
       "5                                  Madagascar (2005)  Animation  \n",
       "6                            Mr. & Mrs. Smith (2005)     Action  \n",
       "7           Charlie And The Chocolate Factory (2005)  Adventure  \n",
       "8                     Mission: Impossible Iii (2006)     Action  \n",
       "9                               Batman Begins (2005)     Action  "
      ]
     },
     "execution_count": 24,
     "metadata": {},
     "output_type": "execute_result"
    }
   ],
   "source": [
    "movie_df.head(10)"
   ]
  },
  {
   "cell_type": "markdown",
   "metadata": {},
   "source": [
    "### Pickle cleaned DFs"
   ]
  },
  {
   "cell_type": "code",
   "execution_count": null,
   "metadata": {},
   "outputs": [],
   "source": [
    "with open(\"movie_df_cleaned.pkl\",\"wb\") as picklefile:\n",
    "    pickle.dump(movie_df, picklefile)\n",
    "    \n",
    "with open(\"title_budget_df_cleaned.pkl\",\"wb\") as picklefile:\n",
    "    pickle.dump(title_budget_df, picklefile)"
   ]
  },
  {
   "cell_type": "markdown",
   "metadata": {},
   "source": [
    "### Merge budget data into **movie_df**, joining on movie title.\n",
    "* Use **fuzzywuzzy** string matching to account for any titles that have slight differences between DataFrames"
   ]
  },
  {
   "cell_type": "code",
   "execution_count": null,
   "metadata": {},
   "outputs": [],
   "source": [
    "from fuzzywuzzy import process\n",
    "title_matched_from_budget_df = []\n",
    "fuzzy_scores = []\n",
    "for title in movie_df[\"Title_Year\"]:\n",
    "    fuzzy_scores.append(process.extract(title, title_budget_df[\"Title_Year\"], limit=1)[0][1])\n",
    "    title_matched_from_budget_df.append(process.extract(title, title_budget_df[\"Title_Year\"], limit=1)[0][0])        "
   ]
  },
  {
   "cell_type": "code",
   "execution_count": null,
   "metadata": {},
   "outputs": [],
   "source": [
    "title_fuzzy_df = pd.DataFrame([list(movie_df[\"Title_Year\"]),title_matched_from_budget_df,fuzzy_scores]).T\n",
    "title_fuzzy_df.columns=[\"Title_Year\",\"title_matched_from_budget_df\",\"Fuzzy_score\"]"
   ]
  },
  {
   "cell_type": "code",
   "execution_count": null,
   "metadata": {},
   "outputs": [],
   "source": [
    "title_fuzzy_df.sample(5)"
   ]
  },
  {
   "cell_type": "markdown",
   "metadata": {},
   "source": [
    "### Pickle title_fuzzy_df"
   ]
  },
  {
   "cell_type": "code",
   "execution_count": null,
   "metadata": {},
   "outputs": [],
   "source": [
    "with open(\"Title_and_Fuzzy.pkl\",\"wb\") as picklefile:\n",
    "    pickle.dump(title_fuzzy_df, picklefile)"
   ]
  },
  {
   "cell_type": "markdown",
   "metadata": {},
   "source": [
    "### Join fuzzy score and matched movie title from title_budget_df onto movie_df"
   ]
  },
  {
   "cell_type": "code",
   "execution_count": null,
   "metadata": {},
   "outputs": [],
   "source": [
    "movie_df_joined = movie_df.join(title_fuzzy_df.set_index(\"Title_Year\"), on=\"Title_Year\")"
   ]
  },
  {
   "cell_type": "code",
   "execution_count": null,
   "metadata": {},
   "outputs": [],
   "source": [
    "movie_df_joined = movie_df_joined.join(title_budget_df.set_index(\"Title_Year\"), \n",
    "                                       on='title_matched_from_budget_df', rsuffix=\"_Numbers\")"
   ]
  },
  {
   "cell_type": "code",
   "execution_count": null,
   "metadata": {},
   "outputs": [],
   "source": [
    "cols = ['Title_Year','Fuzzy_score','ReleaseDate','Budget_Numbers','Rating',\n",
    "        'Runtime','Genres','Lead_Genre','Director','Prod_Company','Distributor','Composer','Lead_Actor',\n",
    "        'Domestic_Sales','Intl_Sales','Global_Sales']\n",
    "\n",
    "movie_df_joined = movie_df_joined[cols]"
   ]
  },
  {
   "cell_type": "markdown",
   "metadata": {},
   "source": [
    "* **Rename Budget data from The Numbers to be final Budget column**\n",
    "* **Add in Net Profit field**"
   ]
  },
  {
   "cell_type": "code",
   "execution_count": null,
   "metadata": {},
   "outputs": [],
   "source": [
    "movie_df_joined = movie_df_joined.rename(columns={\"Budget_Numbers\":\"Budget\",\"Title_Year\":\"Title\"})"
   ]
  },
  {
   "cell_type": "code",
   "execution_count": null,
   "metadata": {},
   "outputs": [],
   "source": [
    "movie_df_joined[\"Net_Profit\"] = movie_df_joined[\"Global_Sales\"] - movie_df_joined[\"Budget\"]"
   ]
  },
  {
   "cell_type": "code",
   "execution_count": null,
   "metadata": {},
   "outputs": [],
   "source": [
    "movie_df_joined.sample(5)"
   ]
  },
  {
   "cell_type": "markdown",
   "metadata": {},
   "source": [
    "### Narrow down data to those with valid Ratings and a Title matching score >= 95"
   ]
  },
  {
   "cell_type": "code",
   "execution_count": null,
   "metadata": {},
   "outputs": [],
   "source": [
    "df_model_data = movie_df_joined[(movie_df_joined[\"Fuzzy_score\"]>=95)\n",
    "                & (movie_df_joined[\"Rating\"].isin([\"G\",\"PG\",\"PG-13\",\"R\",\"NC-17\"]))\n",
    "                & (movie_df_joined[\"Domestic_Sales\"]>0)][[\"Title\",\"Budget\",\"ReleaseDate\",\n",
    "                                                           \"Rating\",\"Runtime\",\"Lead_Genre\",\"Lead_Actor\",\n",
    "                                                           \"Director\",\"Prod_Company\",\"Domestic_Sales\",\n",
    "                                                           \"Intl_Sales\",\"Global_Sales\",\"Net_Profit\"]]"
   ]
  },
  {
   "cell_type": "markdown",
   "metadata": {},
   "source": [
    "### Scrape top Actor names from The-Numbers.com"
   ]
  },
  {
   "cell_type": "code",
   "execution_count": null,
   "metadata": {},
   "outputs": [],
   "source": [
    "Numbers_actors_url = \"https://www.the-numbers.com/box-office-star-records/domestic/yearly-acting/highest-grossing-2020-stars\"\n",
    "page_soup = BeautifulSoup(requests.get(Numbers_actors_url).text,\"html5lib\")\n",
    "\n",
    "actor_soup = page_soup.find_all(\"a\",href=re.compile(\"/person/\"),limit=106)\n",
    "actor_list = [line.text for line in actor_soup[6:]]"
   ]
  },
  {
   "cell_type": "code",
   "execution_count": null,
   "metadata": {},
   "outputs": [],
   "source": [
    "df_model_data[\"Is_Pop_Actor\"] = df_model_data[\"Lead_Actor\"].apply(lambda x: 1 if x in actor_list else 0)"
   ]
  },
  {
   "cell_type": "markdown",
   "metadata": {},
   "source": [
    "### Scrape top Director names from The-Numbers.com"
   ]
  },
  {
   "cell_type": "code",
   "execution_count": null,
   "metadata": {},
   "outputs": [],
   "source": [
    "Numbers_directors_url = \"https://www.the-numbers.com/box-office-star-records/domestic/lifetime-specific-technical-role/director\"\n",
    "page_soup = BeautifulSoup(requests.get(Numbers_directors_url).text,\"html5lib\")\n",
    "\n",
    "director_soup = page_soup.find_all(\"a\",href=re.compile(\"/person/\"),limit=106)\n",
    "director_list = [line.text for line in director_soup[6:]]"
   ]
  },
  {
   "cell_type": "code",
   "execution_count": null,
   "metadata": {},
   "outputs": [],
   "source": [
    "df_model_data[\"Is_Pop_Director\"] = df_model_data[\"Director\"].apply(lambda x: 1 if x in director_list else 0)"
   ]
  },
  {
   "cell_type": "markdown",
   "metadata": {},
   "source": [
    "### Scrape Top Production Companies from The-Numbers.com"
   ]
  },
  {
   "cell_type": "code",
   "execution_count": null,
   "metadata": {},
   "outputs": [],
   "source": [
    "Numbers_production_url = \"https://www.the-numbers.com/movies/production-companies/\"\n",
    "page_soup = BeautifulSoup(requests.get(Numbers_production_url).text,\"html5lib\")"
   ]
  },
  {
   "cell_type": "code",
   "execution_count": null,
   "metadata": {},
   "outputs": [],
   "source": [
    "prod_soup = page_soup.find_all(\"a\",href=re.compile(\"production-company\"),limit=100)\n",
    "prod_list = [line.text for line in prod_soup]"
   ]
  },
  {
   "cell_type": "code",
   "execution_count": null,
   "metadata": {},
   "outputs": [],
   "source": [
    "df_model_data[\"Is_Pop_ProdComp\"] = df_model_data[\"Prod_Company\"].apply(lambda x: 1 if x in prod_list else 0)"
   ]
  },
  {
   "cell_type": "code",
   "execution_count": null,
   "metadata": {},
   "outputs": [],
   "source": [
    "df_model_data.sample(5)"
   ]
  }
 ],
 "metadata": {
  "kernelspec": {
   "display_name": "Python 3",
   "language": "python",
   "name": "python3"
  },
  "language_info": {
   "codemirror_mode": {
    "name": "ipython",
    "version": 3
   },
   "file_extension": ".py",
   "mimetype": "text/x-python",
   "name": "python",
   "nbconvert_exporter": "python",
   "pygments_lexer": "ipython3",
   "version": "3.7.6"
  }
 },
 "nbformat": 4,
 "nbformat_minor": 4
}
